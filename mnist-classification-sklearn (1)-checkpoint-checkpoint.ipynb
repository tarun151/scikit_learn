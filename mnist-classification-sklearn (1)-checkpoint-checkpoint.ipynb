{
 "cells": [
  {
   "cell_type": "markdown",
   "metadata": {
    "_uuid": "07a5ed40d7fe0e3f98ae078ca049fa453f4f9185",
    "colab_type": "text",
    "id": "eVWcfzdn70cr"
   },
   "source": [
    "# MNIST Classification"
   ]
  },
  {
   "cell_type": "markdown",
   "metadata": {
    "_uuid": "59b2e457b76263ec7d8bc71433ca5d70d301ecf0",
    "colab_type": "text",
    "id": "4P3A_VMe70cs"
   },
   "source": [
    "**Recep Inanc, BSc**"
   ]
  },
  {
   "cell_type": "markdown",
   "metadata": {
    "_uuid": "9afbe0af0551a9a4b7490e585ea0e52344924451",
    "colab_type": "text",
    "id": "lwiVNzZV70ct"
   },
   "source": [
    "1. Introduction  \n",
    "2. Data Exploration  \n",
    "    2.1 Load Data  \n",
    "    2.2 Check for null values  \n",
    "    2.3 Understand data\n",
    "3. Data Preprocessing  \n",
    "    3.1 Feature Scaling / Normalization  \n",
    "    3.2 Label Encoding  \n",
    "4. Build Models  \n",
    "    4.1  SVM  \n",
    "    4.2 KNeighbors  \n",
    "    4.3 Random Forest  \n",
    "    4.4 Neural Network\n",
    "5. Evaluate Models  \n",
    "    5.1 Cross Validation   \n",
    "6. Hyperparameter Tuning  \n",
    "7. Predict and Submit  \n",
    "    7.1 Confusion Matrix  \n",
    "    7.2 Precision, Recall and F1 Scores  \n",
    "    7.3 Predict and Submit Results"
   ]
  },
  {
   "cell_type": "markdown",
   "metadata": {
    "_uuid": "665d7e5919ca12f4c7705796d2d6f4dd0f5a2caf",
    "colab_type": "text",
    "id": "WsfhfU5s70cu"
   },
   "source": [
    "# 1. Introduction\n",
    "\n",
    "Hello everyone! I started this kernel right after I finished reading on **Classification**, and since they say \"MNIST is the `hello world` of classification\", I jumped into this competition to have some hands on experience on that.\n",
    "\n",
    "This kernel consists of *7 main parts*, and 5th and 6th are a bit interchangeble. I will try to build 4 different models to classify MNIST images, SVM, KNN, Random Decision Forest and a Neural Network.\n",
    "\n",
    "So let's get to work!\n",
    "\n",
    "PS: I had to comment out many pieces of this notebook since I was not able to `Commit&Run` that way. I once run whole notebook on my local, so I copied the outputs for the parts that I have commented out. Feel free to remove the comments and run the code. "
   ]
  },
  {
   "cell_type": "markdown",
   "metadata": {
    "_uuid": "0fbca08d5d31c7fe49de0b3d3d5a793b9f0471b4",
    "colab_type": "text",
    "id": "Vq_yWur570cv"
   },
   "source": [
    "# 2. Data Exploration\n",
    "\n",
    "This is the part where I get to know the data, how is it formatted, what properties it has etc."
   ]
  },
  {
   "cell_type": "markdown",
   "metadata": {
    "_uuid": "89048e64f22f3cec1ed645fbb3287db1a6316869",
    "colab_type": "text",
    "id": "T42fAnCP70cw"
   },
   "source": [
    "### 2.1 Load Data"
   ]
  },
  {
   "cell_type": "code",
   "execution_count": 2,
   "metadata": {
    "_uuid": "b3a704a71189ac9b8fe0713457b98a2f5d652b5a",
    "colab": {
     "autoexec": {
      "startup": false,
      "wait_interval": 0
     }
    },
    "colab_type": "code",
    "id": "YgDxZpZw70cx"
   },
   "outputs": [],
   "source": [
    "import numpy as np # linear algebra\n",
    "import pandas as pd # data processing, CSV file I/O (e.g. pd.read_csv)\n",
    "\n",
    "%matplotlib inline \n",
    "import matplotlib\n",
    "import matplotlib.pyplot as plt\n",
    "import seaborn as sns\n",
    "import os"
   ]
  },
  {
   "cell_type": "code",
   "execution_count": 6,
   "metadata": {
    "_uuid": "8dce4c14e3cfa76bb83eb80a51bf9105206a516b",
    "colab": {
     "autoexec": {
      "startup": false,
      "wait_interval": 0
     }
    },
    "colab_type": "code",
    "id": "sTS_r8kw70c0"
   },
   "outputs": [
    {
     "ename": "FileNotFoundError",
     "evalue": "[Errno 2] No such file or directory: 'test.csv'",
     "output_type": "error",
     "traceback": [
      "\u001b[1;31m---------------------------------------------------------------------------\u001b[0m",
      "\u001b[1;31mFileNotFoundError\u001b[0m                         Traceback (most recent call last)",
      "Cell \u001b[1;32mIn[6], line 1\u001b[0m\n\u001b[1;32m----> 1\u001b[0m test \u001b[38;5;241m=\u001b[39m \u001b[43mpd\u001b[49m\u001b[38;5;241;43m.\u001b[39;49m\u001b[43mread_csv\u001b[49m\u001b[43m(\u001b[49m\u001b[38;5;124;43m'\u001b[39;49m\u001b[38;5;124;43mtest.csv\u001b[39;49m\u001b[38;5;124;43m'\u001b[39;49m\u001b[43m)\u001b[49m\n",
      "File \u001b[1;32m~\\AppData\\Local\\Programs\\Python\\Python310\\lib\\site-packages\\pandas\\io\\parsers\\readers.py:912\u001b[0m, in \u001b[0;36mread_csv\u001b[1;34m(filepath_or_buffer, sep, delimiter, header, names, index_col, usecols, dtype, engine, converters, true_values, false_values, skipinitialspace, skiprows, skipfooter, nrows, na_values, keep_default_na, na_filter, verbose, skip_blank_lines, parse_dates, infer_datetime_format, keep_date_col, date_parser, date_format, dayfirst, cache_dates, iterator, chunksize, compression, thousands, decimal, lineterminator, quotechar, quoting, doublequote, escapechar, comment, encoding, encoding_errors, dialect, on_bad_lines, delim_whitespace, low_memory, memory_map, float_precision, storage_options, dtype_backend)\u001b[0m\n\u001b[0;32m    899\u001b[0m kwds_defaults \u001b[38;5;241m=\u001b[39m _refine_defaults_read(\n\u001b[0;32m    900\u001b[0m     dialect,\n\u001b[0;32m    901\u001b[0m     delimiter,\n\u001b[1;32m   (...)\u001b[0m\n\u001b[0;32m    908\u001b[0m     dtype_backend\u001b[38;5;241m=\u001b[39mdtype_backend,\n\u001b[0;32m    909\u001b[0m )\n\u001b[0;32m    910\u001b[0m kwds\u001b[38;5;241m.\u001b[39mupdate(kwds_defaults)\n\u001b[1;32m--> 912\u001b[0m \u001b[38;5;28;01mreturn\u001b[39;00m \u001b[43m_read\u001b[49m\u001b[43m(\u001b[49m\u001b[43mfilepath_or_buffer\u001b[49m\u001b[43m,\u001b[49m\u001b[43m \u001b[49m\u001b[43mkwds\u001b[49m\u001b[43m)\u001b[49m\n",
      "File \u001b[1;32m~\\AppData\\Local\\Programs\\Python\\Python310\\lib\\site-packages\\pandas\\io\\parsers\\readers.py:577\u001b[0m, in \u001b[0;36m_read\u001b[1;34m(filepath_or_buffer, kwds)\u001b[0m\n\u001b[0;32m    574\u001b[0m _validate_names(kwds\u001b[38;5;241m.\u001b[39mget(\u001b[38;5;124m\"\u001b[39m\u001b[38;5;124mnames\u001b[39m\u001b[38;5;124m\"\u001b[39m, \u001b[38;5;28;01mNone\u001b[39;00m))\n\u001b[0;32m    576\u001b[0m \u001b[38;5;66;03m# Create the parser.\u001b[39;00m\n\u001b[1;32m--> 577\u001b[0m parser \u001b[38;5;241m=\u001b[39m TextFileReader(filepath_or_buffer, \u001b[38;5;241m*\u001b[39m\u001b[38;5;241m*\u001b[39mkwds)\n\u001b[0;32m    579\u001b[0m \u001b[38;5;28;01mif\u001b[39;00m chunksize \u001b[38;5;129;01mor\u001b[39;00m iterator:\n\u001b[0;32m    580\u001b[0m     \u001b[38;5;28;01mreturn\u001b[39;00m parser\n",
      "File \u001b[1;32m~\\AppData\\Local\\Programs\\Python\\Python310\\lib\\site-packages\\pandas\\io\\parsers\\readers.py:1407\u001b[0m, in \u001b[0;36mTextFileReader.__init__\u001b[1;34m(self, f, engine, **kwds)\u001b[0m\n\u001b[0;32m   1404\u001b[0m     \u001b[38;5;28mself\u001b[39m\u001b[38;5;241m.\u001b[39moptions[\u001b[38;5;124m\"\u001b[39m\u001b[38;5;124mhas_index_names\u001b[39m\u001b[38;5;124m\"\u001b[39m] \u001b[38;5;241m=\u001b[39m kwds[\u001b[38;5;124m\"\u001b[39m\u001b[38;5;124mhas_index_names\u001b[39m\u001b[38;5;124m\"\u001b[39m]\n\u001b[0;32m   1406\u001b[0m \u001b[38;5;28mself\u001b[39m\u001b[38;5;241m.\u001b[39mhandles: IOHandles \u001b[38;5;241m|\u001b[39m \u001b[38;5;28;01mNone\u001b[39;00m \u001b[38;5;241m=\u001b[39m \u001b[38;5;28;01mNone\u001b[39;00m\n\u001b[1;32m-> 1407\u001b[0m \u001b[38;5;28mself\u001b[39m\u001b[38;5;241m.\u001b[39m_engine \u001b[38;5;241m=\u001b[39m \u001b[38;5;28;43mself\u001b[39;49m\u001b[38;5;241;43m.\u001b[39;49m\u001b[43m_make_engine\u001b[49m\u001b[43m(\u001b[49m\u001b[43mf\u001b[49m\u001b[43m,\u001b[49m\u001b[43m \u001b[49m\u001b[38;5;28;43mself\u001b[39;49m\u001b[38;5;241;43m.\u001b[39;49m\u001b[43mengine\u001b[49m\u001b[43m)\u001b[49m\n",
      "File \u001b[1;32m~\\AppData\\Local\\Programs\\Python\\Python310\\lib\\site-packages\\pandas\\io\\parsers\\readers.py:1661\u001b[0m, in \u001b[0;36mTextFileReader._make_engine\u001b[1;34m(self, f, engine)\u001b[0m\n\u001b[0;32m   1659\u001b[0m     \u001b[38;5;28;01mif\u001b[39;00m \u001b[38;5;124m\"\u001b[39m\u001b[38;5;124mb\u001b[39m\u001b[38;5;124m\"\u001b[39m \u001b[38;5;129;01mnot\u001b[39;00m \u001b[38;5;129;01min\u001b[39;00m mode:\n\u001b[0;32m   1660\u001b[0m         mode \u001b[38;5;241m+\u001b[39m\u001b[38;5;241m=\u001b[39m \u001b[38;5;124m\"\u001b[39m\u001b[38;5;124mb\u001b[39m\u001b[38;5;124m\"\u001b[39m\n\u001b[1;32m-> 1661\u001b[0m \u001b[38;5;28mself\u001b[39m\u001b[38;5;241m.\u001b[39mhandles \u001b[38;5;241m=\u001b[39m \u001b[43mget_handle\u001b[49m\u001b[43m(\u001b[49m\n\u001b[0;32m   1662\u001b[0m \u001b[43m    \u001b[49m\u001b[43mf\u001b[49m\u001b[43m,\u001b[49m\n\u001b[0;32m   1663\u001b[0m \u001b[43m    \u001b[49m\u001b[43mmode\u001b[49m\u001b[43m,\u001b[49m\n\u001b[0;32m   1664\u001b[0m \u001b[43m    \u001b[49m\u001b[43mencoding\u001b[49m\u001b[38;5;241;43m=\u001b[39;49m\u001b[38;5;28;43mself\u001b[39;49m\u001b[38;5;241;43m.\u001b[39;49m\u001b[43moptions\u001b[49m\u001b[38;5;241;43m.\u001b[39;49m\u001b[43mget\u001b[49m\u001b[43m(\u001b[49m\u001b[38;5;124;43m\"\u001b[39;49m\u001b[38;5;124;43mencoding\u001b[39;49m\u001b[38;5;124;43m\"\u001b[39;49m\u001b[43m,\u001b[49m\u001b[43m \u001b[49m\u001b[38;5;28;43;01mNone\u001b[39;49;00m\u001b[43m)\u001b[49m\u001b[43m,\u001b[49m\n\u001b[0;32m   1665\u001b[0m \u001b[43m    \u001b[49m\u001b[43mcompression\u001b[49m\u001b[38;5;241;43m=\u001b[39;49m\u001b[38;5;28;43mself\u001b[39;49m\u001b[38;5;241;43m.\u001b[39;49m\u001b[43moptions\u001b[49m\u001b[38;5;241;43m.\u001b[39;49m\u001b[43mget\u001b[49m\u001b[43m(\u001b[49m\u001b[38;5;124;43m\"\u001b[39;49m\u001b[38;5;124;43mcompression\u001b[39;49m\u001b[38;5;124;43m\"\u001b[39;49m\u001b[43m,\u001b[49m\u001b[43m \u001b[49m\u001b[38;5;28;43;01mNone\u001b[39;49;00m\u001b[43m)\u001b[49m\u001b[43m,\u001b[49m\n\u001b[0;32m   1666\u001b[0m \u001b[43m    \u001b[49m\u001b[43mmemory_map\u001b[49m\u001b[38;5;241;43m=\u001b[39;49m\u001b[38;5;28;43mself\u001b[39;49m\u001b[38;5;241;43m.\u001b[39;49m\u001b[43moptions\u001b[49m\u001b[38;5;241;43m.\u001b[39;49m\u001b[43mget\u001b[49m\u001b[43m(\u001b[49m\u001b[38;5;124;43m\"\u001b[39;49m\u001b[38;5;124;43mmemory_map\u001b[39;49m\u001b[38;5;124;43m\"\u001b[39;49m\u001b[43m,\u001b[49m\u001b[43m \u001b[49m\u001b[38;5;28;43;01mFalse\u001b[39;49;00m\u001b[43m)\u001b[49m\u001b[43m,\u001b[49m\n\u001b[0;32m   1667\u001b[0m \u001b[43m    \u001b[49m\u001b[43mis_text\u001b[49m\u001b[38;5;241;43m=\u001b[39;49m\u001b[43mis_text\u001b[49m\u001b[43m,\u001b[49m\n\u001b[0;32m   1668\u001b[0m \u001b[43m    \u001b[49m\u001b[43merrors\u001b[49m\u001b[38;5;241;43m=\u001b[39;49m\u001b[38;5;28;43mself\u001b[39;49m\u001b[38;5;241;43m.\u001b[39;49m\u001b[43moptions\u001b[49m\u001b[38;5;241;43m.\u001b[39;49m\u001b[43mget\u001b[49m\u001b[43m(\u001b[49m\u001b[38;5;124;43m\"\u001b[39;49m\u001b[38;5;124;43mencoding_errors\u001b[39;49m\u001b[38;5;124;43m\"\u001b[39;49m\u001b[43m,\u001b[49m\u001b[43m \u001b[49m\u001b[38;5;124;43m\"\u001b[39;49m\u001b[38;5;124;43mstrict\u001b[39;49m\u001b[38;5;124;43m\"\u001b[39;49m\u001b[43m)\u001b[49m\u001b[43m,\u001b[49m\n\u001b[0;32m   1669\u001b[0m \u001b[43m    \u001b[49m\u001b[43mstorage_options\u001b[49m\u001b[38;5;241;43m=\u001b[39;49m\u001b[38;5;28;43mself\u001b[39;49m\u001b[38;5;241;43m.\u001b[39;49m\u001b[43moptions\u001b[49m\u001b[38;5;241;43m.\u001b[39;49m\u001b[43mget\u001b[49m\u001b[43m(\u001b[49m\u001b[38;5;124;43m\"\u001b[39;49m\u001b[38;5;124;43mstorage_options\u001b[39;49m\u001b[38;5;124;43m\"\u001b[39;49m\u001b[43m,\u001b[49m\u001b[43m \u001b[49m\u001b[38;5;28;43;01mNone\u001b[39;49;00m\u001b[43m)\u001b[49m\u001b[43m,\u001b[49m\n\u001b[0;32m   1670\u001b[0m \u001b[43m\u001b[49m\u001b[43m)\u001b[49m\n\u001b[0;32m   1671\u001b[0m \u001b[38;5;28;01massert\u001b[39;00m \u001b[38;5;28mself\u001b[39m\u001b[38;5;241m.\u001b[39mhandles \u001b[38;5;129;01mis\u001b[39;00m \u001b[38;5;129;01mnot\u001b[39;00m \u001b[38;5;28;01mNone\u001b[39;00m\n\u001b[0;32m   1672\u001b[0m f \u001b[38;5;241m=\u001b[39m \u001b[38;5;28mself\u001b[39m\u001b[38;5;241m.\u001b[39mhandles\u001b[38;5;241m.\u001b[39mhandle\n",
      "File \u001b[1;32m~\\AppData\\Local\\Programs\\Python\\Python310\\lib\\site-packages\\pandas\\io\\common.py:859\u001b[0m, in \u001b[0;36mget_handle\u001b[1;34m(path_or_buf, mode, encoding, compression, memory_map, is_text, errors, storage_options)\u001b[0m\n\u001b[0;32m    854\u001b[0m \u001b[38;5;28;01melif\u001b[39;00m \u001b[38;5;28misinstance\u001b[39m(handle, \u001b[38;5;28mstr\u001b[39m):\n\u001b[0;32m    855\u001b[0m     \u001b[38;5;66;03m# Check whether the filename is to be opened in binary mode.\u001b[39;00m\n\u001b[0;32m    856\u001b[0m     \u001b[38;5;66;03m# Binary mode does not support 'encoding' and 'newline'.\u001b[39;00m\n\u001b[0;32m    857\u001b[0m     \u001b[38;5;28;01mif\u001b[39;00m ioargs\u001b[38;5;241m.\u001b[39mencoding \u001b[38;5;129;01mand\u001b[39;00m \u001b[38;5;124m\"\u001b[39m\u001b[38;5;124mb\u001b[39m\u001b[38;5;124m\"\u001b[39m \u001b[38;5;129;01mnot\u001b[39;00m \u001b[38;5;129;01min\u001b[39;00m ioargs\u001b[38;5;241m.\u001b[39mmode:\n\u001b[0;32m    858\u001b[0m         \u001b[38;5;66;03m# Encoding\u001b[39;00m\n\u001b[1;32m--> 859\u001b[0m         handle \u001b[38;5;241m=\u001b[39m \u001b[38;5;28;43mopen\u001b[39;49m\u001b[43m(\u001b[49m\n\u001b[0;32m    860\u001b[0m \u001b[43m            \u001b[49m\u001b[43mhandle\u001b[49m\u001b[43m,\u001b[49m\n\u001b[0;32m    861\u001b[0m \u001b[43m            \u001b[49m\u001b[43mioargs\u001b[49m\u001b[38;5;241;43m.\u001b[39;49m\u001b[43mmode\u001b[49m\u001b[43m,\u001b[49m\n\u001b[0;32m    862\u001b[0m \u001b[43m            \u001b[49m\u001b[43mencoding\u001b[49m\u001b[38;5;241;43m=\u001b[39;49m\u001b[43mioargs\u001b[49m\u001b[38;5;241;43m.\u001b[39;49m\u001b[43mencoding\u001b[49m\u001b[43m,\u001b[49m\n\u001b[0;32m    863\u001b[0m \u001b[43m            \u001b[49m\u001b[43merrors\u001b[49m\u001b[38;5;241;43m=\u001b[39;49m\u001b[43merrors\u001b[49m\u001b[43m,\u001b[49m\n\u001b[0;32m    864\u001b[0m \u001b[43m            \u001b[49m\u001b[43mnewline\u001b[49m\u001b[38;5;241;43m=\u001b[39;49m\u001b[38;5;124;43m\"\u001b[39;49m\u001b[38;5;124;43m\"\u001b[39;49m\u001b[43m,\u001b[49m\n\u001b[0;32m    865\u001b[0m \u001b[43m        \u001b[49m\u001b[43m)\u001b[49m\n\u001b[0;32m    866\u001b[0m     \u001b[38;5;28;01melse\u001b[39;00m:\n\u001b[0;32m    867\u001b[0m         \u001b[38;5;66;03m# Binary mode\u001b[39;00m\n\u001b[0;32m    868\u001b[0m         handle \u001b[38;5;241m=\u001b[39m \u001b[38;5;28mopen\u001b[39m(handle, ioargs\u001b[38;5;241m.\u001b[39mmode)\n",
      "\u001b[1;31mFileNotFoundError\u001b[0m: [Errno 2] No such file or directory: 'test.csv'"
     ]
    }
   ],
   "source": [
    "\n",
    "test = pd.read_csv('test.csv')"
   ]
  },
  {
   "cell_type": "code",
   "execution_count": 5,
   "metadata": {
    "_uuid": "83fed73b1fa583098656df1ddc79a0e3e6a8e158",
    "colab": {
     "autoexec": {
      "startup": false,
      "wait_interval": 0
     },
     "base_uri": "https://localhost:8080/",
     "height": 102
    },
    "colab_type": "code",
    "executionInfo": {
     "elapsed": 641,
     "status": "ok",
     "timestamp": 1533019615409,
     "user": {
      "displayName": "Recep İnanç",
      "photoUrl": "//lh4.googleusercontent.com/-gV6zBtCFpHM/AAAAAAAAAAI/AAAAAAAAEdk/vy-_CbonbE8/s50-c-k-no/photo.jpg",
      "userId": "104329631567604661052"
     },
     "user_tz": -180
    },
    "id": "feBbq7fu70c2",
    "outputId": "1a13cea8-3781-4944-a5c6-ac53475a7f54"
   },
   "outputs": [
    {
     "ename": "NameError",
     "evalue": "name 'train' is not defined",
     "output_type": "error",
     "traceback": [
      "\u001b[1;31m---------------------------------------------------------------------------\u001b[0m",
      "\u001b[1;31mNameError\u001b[0m                                 Traceback (most recent call last)",
      "Cell \u001b[1;32mIn[5], line 1\u001b[0m\n\u001b[1;32m----> 1\u001b[0m \u001b[43mtrain\u001b[49m\u001b[38;5;241m.\u001b[39minfo()\n",
      "\u001b[1;31mNameError\u001b[0m: name 'train' is not defined"
     ]
    }
   ],
   "source": [
    "train.info()"
   ]
  },
  {
   "cell_type": "code",
   "execution_count": null,
   "metadata": {
    "_uuid": "d3ef6c5ad4595a240f05b44e74237ee267f74abd",
    "colab": {
     "autoexec": {
      "startup": false,
      "wait_interval": 0
     },
     "base_uri": "https://localhost:8080/",
     "height": 102
    },
    "colab_type": "code",
    "collapsed": true,
    "executionInfo": {
     "elapsed": 537,
     "status": "ok",
     "timestamp": 1533019616187,
     "user": {
      "displayName": "Recep İnanç",
      "photoUrl": "//lh4.googleusercontent.com/-gV6zBtCFpHM/AAAAAAAAAAI/AAAAAAAAEdk/vy-_CbonbE8/s50-c-k-no/photo.jpg",
      "userId": "104329631567604661052"
     },
     "user_tz": -180
    },
    "id": "-0_SvW-i70c6",
    "jupyter": {
     "outputs_hidden": true
    },
    "outputId": "affcbb80-9ca4-44e0-fccf-2ffbfe2fa42c"
   },
   "outputs": [],
   "source": [
    "test.info()"
   ]
  },
  {
   "cell_type": "markdown",
   "metadata": {
    "_uuid": "1d9797680bded826cccf37e75a22081c77bd7b51",
    "colab_type": "text",
    "id": "7i7kYHh_70c-"
   },
   "source": [
    "Test set is missing one column, and that is the `label` column, since images are in the form of `28x28` we have `784` feature columns for each image."
   ]
  },
  {
   "cell_type": "markdown",
   "metadata": {
    "_uuid": "8422f678f21bba3818063de42d3030c09842e295",
    "colab_type": "text",
    "id": "syDdds8770c-"
   },
   "source": [
    "### 2.2 Check for null values "
   ]
  },
  {
   "cell_type": "code",
   "execution_count": null,
   "metadata": {
    "_uuid": "aaa63ce022ce255326b398b416f373599de2aa8f",
    "colab": {
     "autoexec": {
      "startup": false,
      "wait_interval": 0
     },
     "base_uri": "https://localhost:8080/",
     "height": 102
    },
    "colab_type": "code",
    "collapsed": true,
    "executionInfo": {
     "elapsed": 1599,
     "status": "ok",
     "timestamp": 1533019619006,
     "user": {
      "displayName": "Recep İnanç",
      "photoUrl": "//lh4.googleusercontent.com/-gV6zBtCFpHM/AAAAAAAAAAI/AAAAAAAAEdk/vy-_CbonbE8/s50-c-k-no/photo.jpg",
      "userId": "104329631567604661052"
     },
     "user_tz": -180
    },
    "id": "0gCaq2GQ70c_",
    "jupyter": {
     "outputs_hidden": true
    },
    "outputId": "af9ddd94-96e5-4bd8-d5f0-5706b9da0e4d"
   },
   "outputs": [],
   "source": [
    "train.isnull().any().describe()"
   ]
  },
  {
   "cell_type": "code",
   "execution_count": null,
   "metadata": {
    "_uuid": "b21a0680886ac1230d7237cb4a6779ddc76a990c",
    "colab": {
     "autoexec": {
      "startup": false,
      "wait_interval": 0
     },
     "base_uri": "https://localhost:8080/",
     "height": 102
    },
    "colab_type": "code",
    "collapsed": true,
    "executionInfo": {
     "elapsed": 1049,
     "status": "ok",
     "timestamp": 1533019620440,
     "user": {
      "displayName": "Recep İnanç",
      "photoUrl": "//lh4.googleusercontent.com/-gV6zBtCFpHM/AAAAAAAAAAI/AAAAAAAAEdk/vy-_CbonbE8/s50-c-k-no/photo.jpg",
      "userId": "104329631567604661052"
     },
     "user_tz": -180
    },
    "id": "7vUvyrZd70dE",
    "jupyter": {
     "outputs_hidden": true
    },
    "outputId": "7ab4a696-ab8f-48ff-ebb2-a7f26896159e"
   },
   "outputs": [],
   "source": [
    "test.isnull().any().describe()"
   ]
  },
  {
   "cell_type": "markdown",
   "metadata": {
    "_uuid": "947b36158a49d4463e7b27a2bc1d91d6c5d582ce",
    "colab_type": "text",
    "id": "3KGs3kUm70dH"
   },
   "source": [
    "It seems like we do not have any missing values. Perfect!"
   ]
  },
  {
   "cell_type": "markdown",
   "metadata": {
    "_uuid": "58a5eadfb98996b6eb49d85b18c196fd10d94a07",
    "colab_type": "text",
    "id": "d5wrYWRj70dH"
   },
   "source": [
    "### 2.3 Split the Data\n",
    "\n",
    "As I learned; we should always put our test set aside when we are exploring dataset, to prevent our brain to mislead us. Since we are trying to create a solution that generalizes and not memorizes, it is important to modify our data by looking at only to train set and not the test set. Test set should only be used for final evaluation."
   ]
  },
  {
   "cell_type": "code",
   "execution_count": null,
   "metadata": {
    "_uuid": "e9f43240052ccb2452105926b4862196e22dd023",
    "colab": {
     "autoexec": {
      "startup": false,
      "wait_interval": 0
     }
    },
    "colab_type": "code",
    "collapsed": true,
    "id": "0uzL2jiX70dJ",
    "jupyter": {
     "outputs_hidden": true
    }
   },
   "outputs": [],
   "source": [
    "from sklearn.model_selection import train_test_split"
   ]
  },
  {
   "cell_type": "code",
   "execution_count": null,
   "metadata": {
    "_uuid": "4aa57e2e5cd61286b7dad9ee635ae892f67229a7",
    "colab": {
     "autoexec": {
      "startup": false,
      "wait_interval": 0
     },
     "base_uri": "https://localhost:8080/",
     "height": 102
    },
    "colab_type": "code",
    "collapsed": true,
    "executionInfo": {
     "elapsed": 821,
     "status": "ok",
     "timestamp": 1533020383015,
     "user": {
      "displayName": "Recep İnanç",
      "photoUrl": "//lh4.googleusercontent.com/-gV6zBtCFpHM/AAAAAAAAAAI/AAAAAAAAEdk/vy-_CbonbE8/s50-c-k-no/photo.jpg",
      "userId": "104329631567604661052"
     },
     "user_tz": -180
    },
    "id": "4nsBTNYx70dM",
    "jupyter": {
     "outputs_hidden": true
    },
    "outputId": "52ea0eab-4d85-4d7b-d322-e4b9f6ad2fdb"
   },
   "outputs": [],
   "source": [
    "X_train_split = train.drop(['label'], axis=1).copy()\n",
    "y_train_split = train['label'].copy()\n",
    "\n",
    "X_train, X_validation, y_train, y_validation = train_test_split(X_train_split, y_train_split, test_size=0.1, random_state=42)\n",
    "\n",
    "del X_train_split, y_train_split\n",
    "\n",
    "print(\"Training Features:\", X_train.shape)\n",
    "print(\"Training Labels:\", y_train.shape)\n",
    "print(\"Validation Features:\", X_validation.shape)\n",
    "print(\"Validation Labels:\", y_validation.shape)\n",
    "print(\"Test Features:\", test.shape)"
   ]
  },
  {
   "cell_type": "markdown",
   "metadata": {
    "_uuid": "2178f5786f2b7e1d9dde64572d5efe93986fc1e3",
    "colab_type": "text",
    "id": "v9sNFW0h70dO"
   },
   "source": [
    "### 2.4 Understand Data"
   ]
  },
  {
   "cell_type": "code",
   "execution_count": null,
   "metadata": {
    "_uuid": "b8cc81b2d34702396c3af2f17270765542946b11",
    "colab": {
     "autoexec": {
      "startup": false,
      "wait_interval": 0
     }
    },
    "colab_type": "code",
    "collapsed": true,
    "id": "CyUHMbrs70dO",
    "jupyter": {
     "outputs_hidden": true
    }
   },
   "outputs": [],
   "source": [
    "X_train_explore = X_train.copy()\n",
    "y_train_explore = y_train.copy()\n",
    "\n",
    "del X_train, y_train"
   ]
  },
  {
   "cell_type": "code",
   "execution_count": null,
   "metadata": {
    "_uuid": "1d7a2a527498c7e84882a9329cb9e7a8ed5d086a",
    "colab": {
     "autoexec": {
      "startup": false,
      "wait_interval": 0
     },
     "base_uri": "https://localhost:8080/",
     "height": 170
    },
    "colab_type": "code",
    "collapsed": true,
    "executionInfo": {
     "elapsed": 531,
     "status": "ok",
     "timestamp": 1533020387002,
     "user": {
      "displayName": "Recep İnanç",
      "photoUrl": "//lh4.googleusercontent.com/-gV6zBtCFpHM/AAAAAAAAAAI/AAAAAAAAEdk/vy-_CbonbE8/s50-c-k-no/photo.jpg",
      "userId": "104329631567604661052"
     },
     "user_tz": -180
    },
    "id": "eMoElB5c70dT",
    "jupyter": {
     "outputs_hidden": true
    },
    "outputId": "fc57d9ad-a1ae-48d9-e73c-e704aafe5843"
   },
   "outputs": [],
   "source": [
    "y_train_explore.value_counts().describe()"
   ]
  },
  {
   "cell_type": "code",
   "execution_count": null,
   "metadata": {
    "_uuid": "fd093e753fbdd7ff3a609a1c2342faf1d2b0786a",
    "colab": {
     "autoexec": {
      "startup": false,
      "wait_interval": 0
     },
     "base_uri": "https://localhost:8080/",
     "height": 412
    },
    "colab_type": "code",
    "collapsed": true,
    "executionInfo": {
     "elapsed": 894,
     "status": "ok",
     "timestamp": 1533020388187,
     "user": {
      "displayName": "Recep İnanç",
      "photoUrl": "//lh4.googleusercontent.com/-gV6zBtCFpHM/AAAAAAAAAAI/AAAAAAAAEdk/vy-_CbonbE8/s50-c-k-no/photo.jpg",
      "userId": "104329631567604661052"
     },
     "user_tz": -180
    },
    "id": "SfIzjMnA70dX",
    "jupyter": {
     "outputs_hidden": true
    },
    "outputId": "6cc60f5a-76e3-4f72-f8be-bad0af75d3db"
   },
   "outputs": [],
   "source": [
    "sns.set()\n",
    "sns.countplot(x=\"label\", data=y_train_explore.to_frame())"
   ]
  },
  {
   "cell_type": "markdown",
   "metadata": {
    "_uuid": "a1184278631cefec89d166ca1298445b10c69dd8",
    "colab_type": "text",
    "id": "l80xF1Dm70db"
   },
   "source": [
    "It looks like only 5 is little less than 4000 and the rest is almost evenly distributed.  \n",
    "\n",
    "\n",
    "We can move on."
   ]
  },
  {
   "cell_type": "code",
   "execution_count": null,
   "metadata": {
    "_uuid": "07b30fb9d14dc4d21fd4cdbb2389ef80e91e7ea9",
    "colab": {
     "autoexec": {
      "startup": false,
      "wait_interval": 0
     },
     "base_uri": "https://localhost:8080/",
     "height": 347
    },
    "colab_type": "code",
    "collapsed": true,
    "executionInfo": {
     "elapsed": 599,
     "status": "ok",
     "timestamp": 1533019628957,
     "user": {
      "displayName": "Recep İnanç",
      "photoUrl": "//lh4.googleusercontent.com/-gV6zBtCFpHM/AAAAAAAAAAI/AAAAAAAAEdk/vy-_CbonbE8/s50-c-k-no/photo.jpg",
      "userId": "104329631567604661052"
     },
     "user_tz": -180
    },
    "id": "yfvQpWyz70dc",
    "jupyter": {
     "outputs_hidden": true
    },
    "outputId": "797b0b18-8158-4689-eaa2-996ee7c84d23"
   },
   "outputs": [],
   "source": [
    "sample_digit = X_train_explore.iloc[2000] # a random instance\n",
    "sample_digit_image = sample_digit.values.reshape(28, 28) # reshape it from (784,) to (28,28)\n",
    "plt.imshow(sample_digit_image, # plot it as an image\n",
    "           cmap = matplotlib.cm.binary,\n",
    "           interpolation=\"nearest\")\n",
    "plt.axis(\"off\")\n",
    "plt.show()"
   ]
  },
  {
   "cell_type": "markdown",
   "metadata": {
    "_uuid": "383f68ed790ad78ac823b91823db0f16cfa4b53c",
    "colab_type": "text",
    "id": "dXDtmbdZ70dg"
   },
   "source": [
    "As you can see our data is in this given format."
   ]
  },
  {
   "cell_type": "markdown",
   "metadata": {
    "_uuid": "eb0a9653e96198c80ae671f4721995973ea3eb61",
    "colab_type": "text",
    "id": "lQpU1vlr70dh"
   },
   "source": [
    "# 3. Data Preprocessing"
   ]
  },
  {
   "cell_type": "markdown",
   "metadata": {
    "_uuid": "cca65b9249f5aad79bc0319a7fc4e3dd5d7cb884",
    "colab_type": "text",
    "id": "CAH-vjs270dh"
   },
   "source": [
    "### 3.1 Feature Scaling / Normalization"
   ]
  },
  {
   "cell_type": "markdown",
   "metadata": {
    "_uuid": "a3a42dd9f5693ec920c528470ae38a0766ad7e06",
    "colab_type": "text",
    "id": "PkaQmrMj70di"
   },
   "source": [
    "Working with numerical data that is in between `0-1` is more effective for most of the machine learning algortihms than `0-255`.  \n",
    "We can easily scale our features to `0-1` range by dividing to `max` value (255).\n",
    "\n",
    "We could use `MinMaxScaler` from `sklearn.preprocessing` but since the formula for that is `(x-min)/(max-min)` and our `min` is 0, we could directly calculate `x/max` and that is `x/255`.  \n",
    "\n",
    "This is going to give the same result. So let's do it!\n",
    "\n",
    "**PS: Do not forget to scale test and validation examples before prediction**"
   ]
  },
  {
   "cell_type": "code",
   "execution_count": null,
   "metadata": {
    "_uuid": "8142704d0decc5ec01c3d7e6a7f7ce38acf167bd",
    "colab": {
     "autoexec": {
      "startup": false,
      "wait_interval": 0
     },
     "base_uri": "https://localhost:8080/",
     "height": 253
    },
    "colab_type": "code",
    "collapsed": true,
    "executionInfo": {
     "elapsed": 778,
     "status": "ok",
     "timestamp": 1533020392466,
     "user": {
      "displayName": "Recep İnanç",
      "photoUrl": "//lh4.googleusercontent.com/-gV6zBtCFpHM/AAAAAAAAAAI/AAAAAAAAEdk/vy-_CbonbE8/s50-c-k-no/photo.jpg",
      "userId": "104329631567604661052"
     },
     "user_tz": -180
    },
    "id": "AtvlmirX70dj",
    "jupyter": {
     "outputs_hidden": true
    },
    "outputId": "0ce8894d-ab76-43cf-a17e-f32e99c39cdf"
   },
   "outputs": [],
   "source": [
    "X_train_scaled = X_train_explore.copy()\n",
    "X_train_scaled = X_train_scaled / 255.0\n",
    "\n",
    "X_train_scaled.head()"
   ]
  },
  {
   "cell_type": "code",
   "execution_count": null,
   "metadata": {
    "_uuid": "1f78f213ad599f23812d19a8c516c006e01454ee",
    "colab": {
     "autoexec": {
      "startup": false,
      "wait_interval": 0
     }
    },
    "colab_type": "code",
    "collapsed": true,
    "id": "ECb725YH70dl",
    "jupyter": {
     "outputs_hidden": true
    }
   },
   "outputs": [],
   "source": [
    "X_train = X_train_scaled.copy()\n",
    "y_train = y_train_explore.copy()\n",
    "\n",
    "del X_train_explore, X_train_scaled, y_train_explore"
   ]
  },
  {
   "cell_type": "markdown",
   "metadata": {
    "_uuid": "e15ea52516a830e8d97210b729e7cb49b9364948",
    "colab_type": "text",
    "id": "9zv9TyKx70do"
   },
   "source": [
    "# 4. Build Model\n",
    "\n",
    "We are going to build the base models first, then we are going to try to  `fine-tune` them."
   ]
  },
  {
   "cell_type": "markdown",
   "metadata": {
    "_uuid": "6d3a685ecc0bb34fcc98c182bbda32820d4738e1",
    "colab_type": "text",
    "id": "zwpB_UuP70dp"
   },
   "source": [
    "## 4.1 SVM\n",
    "\n",
    "We are going to create the SVM model.  \n",
    "We are going to call `fit()` method with training data.\n",
    "\n",
    "SVM's SVC uses `One-versus-Rest/All (OvA/OvR)` by default, meaning that system trains 10 binary classifiers, one for each digit (a 0-detector, a 1-detector, a 2-detector, and so on). Then when you want to classify an image, you get the decision score from each classifier for that image and you select the class whose classifier outputs the highest score.\n",
    "\n",
    "So to building 10 different classifiers going to take some time."
   ]
  },
  {
   "cell_type": "code",
   "execution_count": null,
   "metadata": {
    "_uuid": "dc3b27a2b34760384ccba0376197a4f0eac47de5",
    "colab": {
     "autoexec": {
      "startup": false,
      "wait_interval": 0
     }
    },
    "colab_type": "code",
    "collapsed": true,
    "id": "7zXFtwA270dq",
    "jupyter": {
     "outputs_hidden": true
    }
   },
   "outputs": [],
   "source": [
    "\"\"\"\n",
    "from sklearn.svm import SVC # Support Vector Classification\n",
    "\"\"\""
   ]
  },
  {
   "cell_type": "code",
   "execution_count": null,
   "metadata": {
    "_uuid": "0b79899034669ac65aa357048bb784b39f438fef",
    "colab": {
     "autoexec": {
      "startup": false,
      "wait_interval": 0
     },
     "base_uri": "https://localhost:8080/",
     "height": 54
    },
    "colab_type": "code",
    "collapsed": true,
    "executionInfo": {
     "elapsed": 713,
     "status": "ok",
     "timestamp": 1533020080554,
     "user": {
      "displayName": "Recep İnanç",
      "photoUrl": "//lh4.googleusercontent.com/-gV6zBtCFpHM/AAAAAAAAAAI/AAAAAAAAEdk/vy-_CbonbE8/s50-c-k-no/photo.jpg",
      "userId": "104329631567604661052"
     },
     "user_tz": -180
    },
    "id": "NpbfBuIl70dt",
    "jupyter": {
     "outputs_hidden": true
    },
    "outputId": "eda78985-0f26-436b-a9e2-1cc562162cae"
   },
   "outputs": [],
   "source": [
    "\"\"\"\n",
    "\n",
    "I am commenting out this section since it is taking too much time, but feel free to uncomment and run it.\n",
    "\n",
    "svc_clf = SVC(gamma='auto', random_state=42, verbose=True)\n",
    "svc_clf.fit(X_train, y_train)\n",
    "\n",
    "\"\"\""
   ]
  },
  {
   "cell_type": "markdown",
   "metadata": {
    "_uuid": "972068bb640409037fb80081a55ae6f7cac0b706",
    "colab_type": "text",
    "id": "hKD16Pi-70dx"
   },
   "source": [
    "## 4.2 KNeighbors\n",
    "\n",
    "We are going to create a K-Nearest Neighbor Classifier.  \n",
    "We are going to `fit()` the data to the model.  \n",
    "\n",
    "KNNs asks for a parameter `n_neighbors` which tells how many neighbor points should it check around it, and classify itself according to the ones that are closest to it."
   ]
  },
  {
   "cell_type": "code",
   "execution_count": null,
   "metadata": {
    "_uuid": "aafecc71f5f0c6c71dc43d6aec5eae7a053f952b",
    "colab": {
     "autoexec": {
      "startup": false,
      "wait_interval": 0
     }
    },
    "colab_type": "code",
    "collapsed": true,
    "id": "LzwmmHeN70dz",
    "jupyter": {
     "outputs_hidden": true
    }
   },
   "outputs": [],
   "source": [
    "\"\"\"\n",
    "from sklearn.neighbors import KNeighborsClassifier\n",
    "\"\"\""
   ]
  },
  {
   "cell_type": "code",
   "execution_count": null,
   "metadata": {
    "_uuid": "d82faecf227f5ff78bec0374959767678292f124",
    "colab": {
     "autoexec": {
      "startup": false,
      "wait_interval": 0
     },
     "base_uri": "https://localhost:8080/",
     "height": 68
    },
    "colab_type": "code",
    "collapsed": true,
    "executionInfo": {
     "elapsed": 14281,
     "status": "ok",
     "timestamp": 1532952098788,
     "user": {
      "displayName": "Recep İnanç",
      "photoUrl": "//lh4.googleusercontent.com/-gV6zBtCFpHM/AAAAAAAAAAI/AAAAAAAAEdk/vy-_CbonbE8/s50-c-k-no/photo.jpg",
      "userId": "104329631567604661052"
     },
     "user_tz": -180
    },
    "id": "uWZdrq1M70d3",
    "jupyter": {
     "outputs_hidden": true
    },
    "outputId": "0d5cae96-ed31-4172-8d7e-d36f4d8ae3c3"
   },
   "outputs": [],
   "source": [
    "\"\"\"\n",
    "\n",
    "I am commenting out this section since it is taking too much time, but feel free to uncomment and run it.\n",
    "\n",
    "kn_clf = KNeighborsClassifier()\n",
    "kn_clf.fit(X_train, y_train)\n",
    "\n",
    "\"\"\""
   ]
  },
  {
   "cell_type": "markdown",
   "metadata": {
    "_uuid": "3e8b702f39578dcdae8db86636fc015e7f24cc02",
    "colab_type": "text",
    "id": "R9kcOFwh70d8"
   },
   "source": [
    "## 4.3 Random Forest\n",
    "\n",
    "We are going to build the Random Forest classifier.\n",
    "We are going to call `fit()` to train it.  \n",
    "\n",
    "Random Forest is an ensemble machine learning algorithm, it trains many trees under the hood and the picks the one that performs the best. Random Forest has 2-3 parameters that we are going to tune and the better we tune it the better results we get."
   ]
  },
  {
   "cell_type": "code",
   "execution_count": null,
   "metadata": {
    "_uuid": "487d1f0ddecc6ec0b7a2ecd4c61e2570d2bab177",
    "colab": {
     "autoexec": {
      "startup": false,
      "wait_interval": 0
     }
    },
    "colab_type": "code",
    "collapsed": true,
    "id": "3tUf8ju170d9",
    "jupyter": {
     "outputs_hidden": true
    }
   },
   "outputs": [],
   "source": [
    "\"\"\"\n",
    "from sklearn.ensemble import RandomForestClassifier\n",
    "\"\"\""
   ]
  },
  {
   "cell_type": "code",
   "execution_count": null,
   "metadata": {
    "_uuid": "043c5c2ef8b5d6ffd98c64417eee4aa72a3b5aac",
    "colab": {
     "autoexec": {
      "startup": false,
      "wait_interval": 0
     },
     "base_uri": "https://localhost:8080/",
     "height": 153
    },
    "colab_type": "code",
    "collapsed": true,
    "executionInfo": {
     "elapsed": 3598,
     "status": "ok",
     "timestamp": 1532952519622,
     "user": {
      "displayName": "Recep İnanç",
      "photoUrl": "//lh4.googleusercontent.com/-gV6zBtCFpHM/AAAAAAAAAAI/AAAAAAAAEdk/vy-_CbonbE8/s50-c-k-no/photo.jpg",
      "userId": "104329631567604661052"
     },
     "user_tz": -180
    },
    "id": "i85ncl4K70eA",
    "jupyter": {
     "outputs_hidden": true
    },
    "outputId": "b0fe759d-bbd0-4796-a2ff-02508c98d3bd"
   },
   "outputs": [],
   "source": [
    "\"\"\"\n",
    "\n",
    "I am commenting out this section since it is taking too much time, but feel free to uncomment and run it.\n",
    "\n",
    "rf_clf = RandomForestClassifier(random_state=42, verbose=True)\n",
    "rf_clf.fit(X_train, y_train)\n",
    "\n",
    "\"\"\""
   ]
  },
  {
   "cell_type": "markdown",
   "metadata": {
    "_uuid": "43b588dcaadb1d2216034a9b57848f92b0916333",
    "colab_type": "text",
    "id": "Fu6oFyhV70eE"
   },
   "source": [
    "## 4.4 Neural Network Classifier\n",
    "\n",
    "We are going to create the MLP classifier.\n",
    "We are going to `fit()` the training data.\n",
    "\n",
    "Multi-layer perceptron is the one that requires most modification. Of course default values are already set in its **\\_\\_init\\_\\_** method but it is better if we customize it according to our needs. Of course there are no strict rules these parameters but we are going to try to do our best.\n"
   ]
  },
  {
   "cell_type": "code",
   "execution_count": null,
   "metadata": {
    "_uuid": "4e9207eedd96cf62a9243114771efab811a9348d",
    "colab": {
     "autoexec": {
      "startup": false,
      "wait_interval": 0
     }
    },
    "colab_type": "code",
    "collapsed": true,
    "id": "wwGDCUlV70eF",
    "jupyter": {
     "outputs_hidden": true
    }
   },
   "outputs": [],
   "source": [
    "\"\"\"\n",
    "from sklearn.neural_network import MLPClassifier\n",
    "\"\"\""
   ]
  },
  {
   "cell_type": "code",
   "execution_count": null,
   "metadata": {
    "_uuid": "7b42a0316962039db5419a2c18dc206f1dd8caee",
    "colab": {
     "autoexec": {
      "startup": false,
      "wait_interval": 0
     },
     "base_uri": "https://localhost:8080/",
     "height": 136
    },
    "colab_type": "code",
    "collapsed": true,
    "executionInfo": {
     "elapsed": 55887,
     "status": "ok",
     "timestamp": 1532952576540,
     "user": {
      "displayName": "Recep İnanç",
      "photoUrl": "//lh4.googleusercontent.com/-gV6zBtCFpHM/AAAAAAAAAAI/AAAAAAAAEdk/vy-_CbonbE8/s50-c-k-no/photo.jpg",
      "userId": "104329631567604661052"
     },
     "user_tz": -180
    },
    "id": "qAtBGCuo70eG",
    "jupyter": {
     "outputs_hidden": true
    },
    "outputId": "1ee09ccd-7ff5-4972-e19c-1c4182c78684"
   },
   "outputs": [],
   "source": [
    "# Important parameters\n",
    "# hidden layer size\n",
    "# activation function\n",
    "# alpha -> learning rate\n",
    "# random_state -> set to get remove randomness effect for different runs\n",
    "# momentum\n",
    "# max_iter\n",
    "\n",
    "\"\"\"\n",
    "\n",
    "I am commenting out this section since it is taking too much time, but feel free to uncomment and run it.\n",
    "\n",
    "\n",
    "mlp_clf = MLPClassifier(random_state=42)\n",
    "mlp_clf.fit(X_train, y_train)\n",
    "\n",
    "\"\"\""
   ]
  },
  {
   "cell_type": "markdown",
   "metadata": {
    "_uuid": "41380e44b3567868e0668a3dfc583b4cd117c4a4",
    "colab_type": "text",
    "id": "LtVk9dnK70eJ"
   },
   "source": [
    "# 5. Evaluate Models"
   ]
  },
  {
   "cell_type": "code",
   "execution_count": null,
   "metadata": {
    "_uuid": "d6b004c43c46d90febe54da402715f2c2e76825f",
    "colab": {
     "autoexec": {
      "startup": false,
      "wait_interval": 0
     }
    },
    "colab_type": "code",
    "collapsed": true,
    "id": "63B5OQOt70eJ",
    "jupyter": {
     "outputs_hidden": true
    }
   },
   "outputs": [],
   "source": [
    "\"\"\"\n",
    "from sklearn.metrics import accuracy_score\n",
    "\"\"\""
   ]
  },
  {
   "cell_type": "code",
   "execution_count": null,
   "metadata": {
    "_uuid": "bfd16196ea2d226566cb70825f93e14cfb43be45",
    "colab": {
     "autoexec": {
      "startup": false,
      "wait_interval": 0
     }
    },
    "colab_type": "code",
    "collapsed": true,
    "id": "u-AB_de370eL",
    "jupyter": {
     "outputs_hidden": true
    }
   },
   "outputs": [],
   "source": [
    "\"\"\"\n",
    "X_validation_scaled = X_validation.copy()\n",
    "X_validation_scaled = X_validation_scaled / 255.0\n",
    "\"\"\""
   ]
  },
  {
   "cell_type": "code",
   "execution_count": null,
   "metadata": {
    "_uuid": "4f7bfac165feda01edb09538308586d02ff5b362",
    "colab": {
     "autoexec": {
      "startup": false,
      "wait_interval": 0
     },
     "base_uri": "https://localhost:8080/",
     "height": 34
    },
    "colab_type": "code",
    "collapsed": true,
    "executionInfo": {
     "elapsed": 62284,
     "status": "ok",
     "timestamp": 1532952640273,
     "user": {
      "displayName": "Recep İnanç",
      "photoUrl": "//lh4.googleusercontent.com/-gV6zBtCFpHM/AAAAAAAAAAI/AAAAAAAAEdk/vy-_CbonbE8/s50-c-k-no/photo.jpg",
      "userId": "104329631567604661052"
     },
     "user_tz": -180
    },
    "id": "6rbUGZuU70eO",
    "jupyter": {
     "outputs_hidden": true
    },
    "outputId": "fe68eb57-7eda-4acb-e12e-238429ec653c"
   },
   "outputs": [],
   "source": [
    "\"\"\"\n",
    "\n",
    "I am commenting out this section since it is taking too much time, but feel free to uncomment and run it.\n",
    "\n",
    "svc_prediction = svc_clf.predict(X_validation_scaled)\n",
    "print(\"SVC Accuracy:\", accuracy_score(y_true=y_validation ,y_pred=svc_prediction))\n",
    "\n",
    "\"\"\""
   ]
  },
  {
   "cell_type": "markdown",
   "metadata": {
    "_uuid": "e37043027b8c1317d94ed0391854a42dae24ee3d"
   },
   "source": [
    "SVC Accuracy: 0.934047619047619"
   ]
  },
  {
   "cell_type": "code",
   "execution_count": null,
   "metadata": {
    "_uuid": "f33c9e7a526a53554f90468b70a8f08abc74b20c",
    "colab": {
     "autoexec": {
      "startup": false,
      "wait_interval": 0
     },
     "base_uri": "https://localhost:8080/",
     "height": 34
    },
    "colab_type": "code",
    "collapsed": true,
    "executionInfo": {
     "elapsed": 242696,
     "status": "ok",
     "timestamp": 1532952883048,
     "user": {
      "displayName": "Recep İnanç",
      "photoUrl": "//lh4.googleusercontent.com/-gV6zBtCFpHM/AAAAAAAAAAI/AAAAAAAAEdk/vy-_CbonbE8/s50-c-k-no/photo.jpg",
      "userId": "104329631567604661052"
     },
     "user_tz": -180
    },
    "id": "AeNPvvf470eR",
    "jupyter": {
     "outputs_hidden": true
    },
    "outputId": "8ba33cfa-db1b-43f9-ad52-f252393f1b53"
   },
   "outputs": [],
   "source": [
    "\"\"\"\n",
    "\n",
    "I am commenting out this section since it is taking too much time, but feel free to uncomment and run it.\n",
    "\n",
    "knn_prediction = kn_clf.predict(X_validation_scaled)\n",
    "print(\"KNN Accuracy:\", accuracy_score(y_true=y_validation ,y_pred=knn_prediction))\n",
    "\n",
    "\"\"\""
   ]
  },
  {
   "cell_type": "markdown",
   "metadata": {
    "_uuid": "b31112bb95beee194bd9d8e1453bd9ced05838a5"
   },
   "source": [
    "KNN Accuracy: 0.9654761904761905"
   ]
  },
  {
   "cell_type": "code",
   "execution_count": null,
   "metadata": {
    "_uuid": "6bdf798b755c12526292d992b4e5d6fc5fbe5338",
    "colab": {
     "autoexec": {
      "startup": false,
      "wait_interval": 0
     },
     "base_uri": "https://localhost:8080/",
     "height": 51
    },
    "colab_type": "code",
    "collapsed": true,
    "executionInfo": {
     "elapsed": 930,
     "status": "ok",
     "timestamp": 1532952884089,
     "user": {
      "displayName": "Recep İnanç",
      "photoUrl": "//lh4.googleusercontent.com/-gV6zBtCFpHM/AAAAAAAAAAI/AAAAAAAAEdk/vy-_CbonbE8/s50-c-k-no/photo.jpg",
      "userId": "104329631567604661052"
     },
     "user_tz": -180
    },
    "id": "e5jYjX5k70eV",
    "jupyter": {
     "outputs_hidden": true
    },
    "outputId": "a1e7f3f6-463c-4c00-a3fb-164c89d10011"
   },
   "outputs": [],
   "source": [
    "\"\"\"\n",
    "\n",
    "I am commenting out this section since it is taking too much time, but feel free to uncomment and run it.\n",
    "\n",
    "rf_prediction = rf_clf.predict(X_validation_scaled)\n",
    "print(\"Random Forest Accuracy:\", accuracy_score(y_true=y_validation ,y_pred=rf_prediction))\n",
    "\n",
    "\"\"\""
   ]
  },
  {
   "cell_type": "markdown",
   "metadata": {
    "_uuid": "e5b38f1322fb82f2eb8848aabfe7c5c2125482f6"
   },
   "source": [
    "Random Forest Accuracy: 0.9419047619047619"
   ]
  },
  {
   "cell_type": "code",
   "execution_count": null,
   "metadata": {
    "_uuid": "da883076c6f596d28aad52d42c3fbcf6aff976ef",
    "colab": {
     "autoexec": {
      "startup": false,
      "wait_interval": 0
     },
     "base_uri": "https://localhost:8080/",
     "height": 34
    },
    "colab_type": "code",
    "collapsed": true,
    "executionInfo": {
     "elapsed": 857,
     "status": "ok",
     "timestamp": 1532952885114,
     "user": {
      "displayName": "Recep İnanç",
      "photoUrl": "//lh4.googleusercontent.com/-gV6zBtCFpHM/AAAAAAAAAAI/AAAAAAAAEdk/vy-_CbonbE8/s50-c-k-no/photo.jpg",
      "userId": "104329631567604661052"
     },
     "user_tz": -180
    },
    "id": "U2sQ452s70eY",
    "jupyter": {
     "outputs_hidden": true
    },
    "outputId": "9fd3d530-c35d-4a77-a30c-2f64eb20f5ba"
   },
   "outputs": [],
   "source": [
    "\"\"\"\n",
    "\n",
    "I am commenting out this section since it is taking too much time, but feel free to uncomment and run it.\n",
    "\n",
    "mlp_prediction = mlp_clf.predict(X_validation_scaled)\n",
    "print(\"MLP Accuracy:\", accuracy_score(y_true=y_validation ,y_pred=mlp_prediction))\n",
    "\n",
    "\"\"\""
   ]
  },
  {
   "cell_type": "markdown",
   "metadata": {
    "_uuid": "9b0af6bbec314112eda485137b346a29c1894230"
   },
   "source": [
    "MLP Accuracy: 0.9745238095238096"
   ]
  },
  {
   "cell_type": "markdown",
   "metadata": {
    "_uuid": "98abb2ace4c98980541740edd74beb87a61f9811",
    "colab_type": "text",
    "id": "bSZWdCfZ70eb"
   },
   "source": [
    "These are the accuracy results for the models in their base forms, I mean without any tuning, **RandomForest** and **Neural Network (MLP)** performed well.\n",
    "\n",
    "Thanks to [archaeocharlie](https://www.kaggle.com/archaeocharlie) I realised a different type of modification to apply and I changed the scale from grayscale to only black and white.\n",
    "\n",
    "I am going to apply this and check the results for all other models."
   ]
  },
  {
   "cell_type": "markdown",
   "metadata": {
    "_uuid": "54f02c687f763eca984a92036c3afe53d8a3f9ae",
    "colab_type": "text",
    "id": "n0o-3gc270ed"
   },
   "source": [
    "### Transform Images to Black and White"
   ]
  },
  {
   "cell_type": "code",
   "execution_count": null,
   "metadata": {
    "_uuid": "aa741cd616856608ff7506cf73b8aa628055e4e0",
    "colab": {
     "autoexec": {
      "startup": false,
      "wait_interval": 0
     }
    },
    "colab_type": "code",
    "collapsed": true,
    "id": "VB4xvbNQ70eh",
    "jupyter": {
     "outputs_hidden": true
    }
   },
   "outputs": [],
   "source": [
    "\"\"\"\n",
    "\n",
    "I am commenting out this section since it is taking too much time, but feel free to uncomment and run it.\n",
    "\n",
    "X_validation_bw = X_validation.copy()\n",
    "X_train_bw = X_train.copy()\n",
    "\n",
    "X_validation_bw[X_validation_bw > 0] = 1\n",
    "X_train_bw[X_train_bw > 0] = 1\n",
    "\n",
    "\"\"\""
   ]
  },
  {
   "cell_type": "code",
   "execution_count": null,
   "metadata": {
    "_uuid": "58e4fecb5ab7023820cbeecc9cdfb78ea76fbb33",
    "colab": {
     "autoexec": {
      "startup": false,
      "wait_interval": 0
     }
    },
    "colab_type": "code",
    "collapsed": true,
    "id": "PQGbGx_-70ej",
    "jupyter": {
     "outputs_hidden": true
    },
    "outputId": "46373c45-9015-4761-b8a2-b30efb5049a7"
   },
   "outputs": [],
   "source": [
    "\"\"\"\n",
    "\n",
    "I am commenting out this section since it is taking too much time, but feel free to uncomment and run it.\n",
    "\n",
    "svc_bw_clf = SVC(gamma='auto', random_state=42, verbose=True)\n",
    "svc_bw_clf.fit(X_train_bw, y_train)\n",
    "\n",
    "\"\"\""
   ]
  },
  {
   "cell_type": "code",
   "execution_count": null,
   "metadata": {
    "_uuid": "32fcbd8d6b8de1cbc1f364a514ddc71b853c922e",
    "colab": {
     "autoexec": {
      "startup": false,
      "wait_interval": 0
     }
    },
    "colab_type": "code",
    "collapsed": true,
    "id": "iXFQJGrD70em",
    "jupyter": {
     "outputs_hidden": true
    },
    "outputId": "3e374f15-b209-4518-e7dc-dc33749ffcda"
   },
   "outputs": [],
   "source": [
    "\"\"\"\n",
    "\n",
    "I am commenting out this section since it is taking too much time, but feel free to uncomment and run it.\n",
    "\n",
    "kn_bw_clf = KNeighborsClassifier()\n",
    "kn_bw_clf.fit(X_train_bw, y_train)\n",
    "\n",
    "\"\"\""
   ]
  },
  {
   "cell_type": "code",
   "execution_count": null,
   "metadata": {
    "_uuid": "5ad2a09a331cb5221fb928b17d9b841dfe315a2d",
    "colab": {
     "autoexec": {
      "startup": false,
      "wait_interval": 0
     }
    },
    "colab_type": "code",
    "collapsed": true,
    "id": "JJOWJVCx70er",
    "jupyter": {
     "outputs_hidden": true
    },
    "outputId": "660b163c-f30e-4a4a-97f0-18857660618d"
   },
   "outputs": [],
   "source": [
    "\"\"\"\n",
    "\n",
    "I am commenting out this section since it is taking too much time, but feel free to uncomment and run it.\n",
    "\n",
    "rf_bw_clf = RandomForestClassifier(random_state=42, verbose=True)\n",
    "rf_bw_clf.fit(X_train_bw, y_train)\n",
    "\n",
    "\"\"\""
   ]
  },
  {
   "cell_type": "code",
   "execution_count": null,
   "metadata": {
    "_uuid": "f7c0469a561fbd8fdd2ff6489ae6a8ff49761921",
    "colab": {
     "autoexec": {
      "startup": false,
      "wait_interval": 0
     }
    },
    "colab_type": "code",
    "collapsed": true,
    "id": "a4RubSgt70ev",
    "jupyter": {
     "outputs_hidden": true
    },
    "outputId": "dbacab2f-5f61-4352-90c8-3a206cb9bb33"
   },
   "outputs": [],
   "source": [
    "\"\"\"\n",
    "\n",
    "I am commenting out this section since it is taking too much time, but feel free to uncomment and run it.\n",
    "\n",
    "mlp_bw_clf = MLPClassifier(random_state=42)\n",
    "mlp_bw_clf.fit(X_train_bw, y_train)\n",
    "\n",
    "\"\"\""
   ]
  },
  {
   "cell_type": "code",
   "execution_count": null,
   "metadata": {
    "_uuid": "391f41d6d06a64bacceb279467e2421426e7fc36",
    "colab": {
     "autoexec": {
      "startup": false,
      "wait_interval": 0
     }
    },
    "colab_type": "code",
    "collapsed": true,
    "id": "FTqt3asR70e0",
    "jupyter": {
     "outputs_hidden": true
    },
    "outputId": "e336e6e4-a38d-4b39-d544-bac8037df63e"
   },
   "outputs": [],
   "source": [
    "\"\"\"\n",
    "\n",
    "I am commenting out this section since it is taking too much time, but feel free to uncomment and run it.\n",
    "\n",
    "svc_bw_prediction = svc_clf.predict(X_validation_bw)\n",
    "print(\"SVC BW Accuracy:\", accuracy_score(y_true=y_validation ,y_pred=svc_bw_prediction))\n",
    "\n",
    "\"\"\""
   ]
  },
  {
   "cell_type": "markdown",
   "metadata": {
    "_uuid": "93284f6ec84a77920be04af547166bae1196b5a7"
   },
   "source": [
    "SVC BW Accuracy: 0.9226190476190477"
   ]
  },
  {
   "cell_type": "code",
   "execution_count": null,
   "metadata": {
    "_uuid": "be007ad3dde89f8abc2bd24540daf357b1db1e4a",
    "colab": {
     "autoexec": {
      "startup": false,
      "wait_interval": 0
     }
    },
    "colab_type": "code",
    "collapsed": true,
    "id": "EOszHtEJ70e4",
    "jupyter": {
     "outputs_hidden": true
    },
    "outputId": "6dd76b05-8493-4e7c-c7ae-885d02d5d204"
   },
   "outputs": [],
   "source": [
    "\"\"\"\n",
    "\n",
    "I am commenting out this section since it is taking too much time, but feel free to uncomment and run it.\n",
    "\n",
    "knn_bw_prediction = kn_clf.predict(X_validation_bw)\n",
    "print(\"KNN Accuracy:\", accuracy_score(y_true=y_validation ,y_pred=knn_bw_prediction))\n",
    "\n",
    "\"\"\""
   ]
  },
  {
   "cell_type": "markdown",
   "metadata": {
    "_uuid": "d2836ef6da5babb89588479d69989b151e27daee"
   },
   "source": [
    "KNN Accuracy: 0.9630952380952381"
   ]
  },
  {
   "cell_type": "code",
   "execution_count": null,
   "metadata": {
    "_uuid": "6ca6b8b3bed66992d814e87c85058eefed47a48f",
    "colab": {
     "autoexec": {
      "startup": false,
      "wait_interval": 0
     }
    },
    "colab_type": "code",
    "collapsed": true,
    "id": "64i_zRWw70e6",
    "jupyter": {
     "outputs_hidden": true
    },
    "outputId": "45bff2e4-ea30-43df-c522-04331ff74c1b"
   },
   "outputs": [],
   "source": [
    "\"\"\"\n",
    "\n",
    "I am commenting out this section since it is taking too much time, but feel free to uncomment and run it.\n",
    "\n",
    "rf_bw_prediction = rf_clf.predict(X_validation_bw)\n",
    "print(\"Random Forest Accuracy:\", accuracy_score(y_true=y_validation ,y_pred=rf_bw_prediction))\n",
    "\n",
    "\"\"\""
   ]
  },
  {
   "cell_type": "markdown",
   "metadata": {
    "_uuid": "1733643af462ab7a9cf87082306707325ee94a58"
   },
   "source": [
    "Random Forest Accuracy: 0.9166666666666666"
   ]
  },
  {
   "cell_type": "code",
   "execution_count": null,
   "metadata": {
    "_uuid": "624aaad453f5cb93a5ded8087057f1a73b305cc9",
    "colab": {
     "autoexec": {
      "startup": false,
      "wait_interval": 0
     }
    },
    "colab_type": "code",
    "collapsed": true,
    "id": "3pj4HlA_70e_",
    "jupyter": {
     "outputs_hidden": true
    },
    "outputId": "37cb9580-92c4-4277-8b3a-848273d05698"
   },
   "outputs": [],
   "source": [
    "\"\"\"\n",
    "\n",
    "I am commenting out this section since it is taking too much time, but feel free to uncomment and run it.\n",
    "\n",
    "mlp_bw_prediction = mlp_clf.predict(X_validation_bw)\n",
    "print(\"MLP Accuracy:\", accuracy_score(y_true=y_validation ,y_pred=mlp_bw_prediction))\n",
    "\n",
    "\"\"\""
   ]
  },
  {
   "cell_type": "markdown",
   "metadata": {
    "_uuid": "d95fc97c1750000b0789663b738c00006a682380"
   },
   "source": [
    "MLP Accuracy: 0.9595238095238096"
   ]
  },
  {
   "cell_type": "markdown",
   "metadata": {
    "_uuid": "5fe6d8cfdf29cc11187984ffbcd390ea9ce106a9",
    "colab_type": "text",
    "id": "v9HfaDDk70fB"
   },
   "source": [
    "Converting to BW kinda overwrite Min-Max scaling effect. So these are totally different transformation, and clearly feature scaling is a better approach."
   ]
  },
  {
   "cell_type": "markdown",
   "metadata": {
    "_uuid": "542ca79a9623c4a133c0b0d530aee3c9a2aaed8e",
    "colab_type": "text",
    "id": "HS4qbHQt70fB"
   },
   "source": [
    "## 5.1 Cross Validation"
   ]
  },
  {
   "cell_type": "code",
   "execution_count": null,
   "metadata": {
    "_uuid": "138fea09816aaff6b5c8cbfb84b5e5b55929688f",
    "colab": {
     "autoexec": {
      "startup": false,
      "wait_interval": 0
     }
    },
    "colab_type": "code",
    "collapsed": true,
    "id": "6jBpNMXb70fC",
    "jupyter": {
     "outputs_hidden": true
    }
   },
   "outputs": [],
   "source": [
    "\"\"\"\n",
    "from sklearn.model_selection import cross_val_score\n",
    "\n",
    "def display_scores(scores):\n",
    "    print(\"Scores:\", scores)\n",
    "    print(\"\")\n",
    "    print(\"Mean:\", scores.mean())\n",
    "    print(\"Standard deviation:\", scores.std())\n",
    "\"\"\""
   ]
  },
  {
   "cell_type": "markdown",
   "metadata": {
    "_uuid": "93c82272cfce01494653c4ea63699425cb7ad058",
    "colab_type": "text",
    "id": "lekbr8LO70fF"
   },
   "source": [
    "### SVM"
   ]
  },
  {
   "cell_type": "code",
   "execution_count": null,
   "metadata": {
    "_uuid": "4798252676b583e7f228fe5016da355447982502",
    "colab": {
     "autoexec": {
      "startup": false,
      "wait_interval": 0
     },
     "base_uri": "https://localhost:8080/",
     "height": 54
    },
    "colab_type": "code",
    "collapsed": true,
    "executionInfo": {
     "elapsed": 654,
     "status": "ok",
     "timestamp": 1532954498498,
     "user": {
      "displayName": "Recep İnanç",
      "photoUrl": "//lh4.googleusercontent.com/-gV6zBtCFpHM/AAAAAAAAAAI/AAAAAAAAEdk/vy-_CbonbE8/s50-c-k-no/photo.jpg",
      "userId": "104329631567604661052"
     },
     "user_tz": -180
    },
    "id": "ROsoaTLF70fG",
    "jupyter": {
     "outputs_hidden": true
    },
    "outputId": "0b706249-6f4d-43a0-dc31-2af1cf2bceee"
   },
   "outputs": [],
   "source": [
    "\"\"\"\n",
    "\n",
    "I am commenting out this section since it is taking too much time, but feel free to uncomment and run it.\n",
    "\n",
    "svm_scores = cross_val_score(svc_clf, X_train, y_train, scoring=\"neg_mean_squared_error\", cv=10, verbose=10)\n",
    "svm_rmse_scores = np.sqrt(-svm_scores)\n",
    "\n",
    "print(\"SVM Scores\\n\")\n",
    "display_scores(svm_rmse_scores)\n",
    "\"\"\""
   ]
  },
  {
   "cell_type": "markdown",
   "metadata": {
    "_uuid": "9fc9278b72ea888ab8efcec20e0e120d5dc620a3",
    "colab_type": "text",
    "id": "cn0yuKrG70fL"
   },
   "source": [
    "### KNN"
   ]
  },
  {
   "cell_type": "code",
   "execution_count": null,
   "metadata": {
    "_uuid": "d666894d91c6d737daa6bf8153a0465bb436fe84",
    "colab": {
     "autoexec": {
      "startup": false,
      "wait_interval": 0
     },
     "base_uri": "https://localhost:8080/",
     "height": 54
    },
    "colab_type": "code",
    "collapsed": true,
    "executionInfo": {
     "elapsed": 678,
     "status": "ok",
     "timestamp": 1532954502029,
     "user": {
      "displayName": "Recep İnanç",
      "photoUrl": "//lh4.googleusercontent.com/-gV6zBtCFpHM/AAAAAAAAAAI/AAAAAAAAEdk/vy-_CbonbE8/s50-c-k-no/photo.jpg",
      "userId": "104329631567604661052"
     },
     "user_tz": -180
    },
    "id": "XP4dGDJ370fM",
    "jupyter": {
     "outputs_hidden": true
    },
    "outputId": "e45db40c-800c-4f7c-b715-c18bd960c41f"
   },
   "outputs": [],
   "source": [
    "\"\"\"\n",
    "\n",
    "I am commenting out this section since it is taking too much time, but feel free to uncomment and run it.\n",
    "\n",
    "kn_scores = cross_val_score(kn_clf, X_train, y_train, scoring=\"neg_mean_squared_error\", cv=10, verbose=10)\n",
    "kn_rmse_scores = np.sqrt(-kn_scores)\n",
    "\n",
    "print(\"KNeighbor Scores\\n\")\n",
    "display_scores(kn_rmse_scores)\n",
    "\n",
    "\"\"\""
   ]
  },
  {
   "cell_type": "markdown",
   "metadata": {
    "_uuid": "786a258bbcdce5a7f7df47d7c0ba8a61a7a34d19",
    "colab_type": "text",
    "id": "Jy6JMXeM70fP"
   },
   "source": [
    "### Random Forest"
   ]
  },
  {
   "cell_type": "code",
   "execution_count": null,
   "metadata": {
    "_uuid": "688a7a5017354edf2dca86aff2c3631ae8956442",
    "colab": {
     "autoexec": {
      "startup": false,
      "wait_interval": 0
     },
     "base_uri": "https://localhost:8080/",
     "height": 986
    },
    "colab_type": "code",
    "collapsed": true,
    "executionInfo": {
     "elapsed": 26222,
     "status": "ok",
     "timestamp": 1532954530016,
     "user": {
      "displayName": "Recep İnanç",
      "photoUrl": "//lh4.googleusercontent.com/-gV6zBtCFpHM/AAAAAAAAAAI/AAAAAAAAEdk/vy-_CbonbE8/s50-c-k-no/photo.jpg",
      "userId": "104329631567604661052"
     },
     "user_tz": -180
    },
    "id": "-kiwEmAj70fR",
    "jupyter": {
     "outputs_hidden": true
    },
    "outputId": "c463c198-f488-4d7d-f9bf-90f417484173"
   },
   "outputs": [],
   "source": [
    "\"\"\"\n",
    "\n",
    "I am commenting out this section since it is taking too much time, but feel free to uncomment and run it.\n",
    "\n",
    "rf_scores = cross_val_score(rf_clf, X_train, y_train, scoring=\"neg_mean_squared_error\", cv=10, verbose=10)\n",
    "rf_rmse_scores = np.sqrt(-rf_scores)\n",
    "\n",
    "print(\"Random Forest Scores\\n\")\n",
    "display_scores(rf_rmse_scores)\n",
    "\n",
    "\"\"\""
   ]
  },
  {
   "cell_type": "markdown",
   "metadata": {
    "_uuid": "0af4d3f56306aef39cd3f1773f942238cbe62893",
    "colab_type": "text",
    "id": "A0L5LZPW70fU"
   },
   "source": [
    "### MLP "
   ]
  },
  {
   "cell_type": "code",
   "execution_count": null,
   "metadata": {
    "_uuid": "b9889b763272cae2f5dfd05e4637581d9aec3b07",
    "colab": {
     "autoexec": {
      "startup": false,
      "wait_interval": 0
     },
     "base_uri": "https://localhost:8080/",
     "height": 646
    },
    "colab_type": "code",
    "collapsed": true,
    "executionInfo": {
     "elapsed": 635094,
     "status": "ok",
     "timestamp": 1532955180008,
     "user": {
      "displayName": "Recep İnanç",
      "photoUrl": "//lh4.googleusercontent.com/-gV6zBtCFpHM/AAAAAAAAAAI/AAAAAAAAEdk/vy-_CbonbE8/s50-c-k-no/photo.jpg",
      "userId": "104329631567604661052"
     },
     "user_tz": -180
    },
    "id": "T3AVQoEh70fW",
    "jupyter": {
     "outputs_hidden": true
    },
    "outputId": "4517fe81-7e77-4ebb-e885-0d803588906c"
   },
   "outputs": [],
   "source": [
    "\"\"\"\n",
    "\n",
    "I am commenting out this section since it is taking too much time, but feel free to uncomment and run it.\n",
    "\n",
    "mlp_scores = cross_val_score(mlp_clf, X_train, y_train, scoring=\"neg_mean_squared_error\", cv=10, verbose=10)\n",
    "mlp_rmse_scores = np.sqrt(-mlp_scores)\n",
    "\n",
    "print(\"Neural Network Scores\\n\")\n",
    "display_scores(mlp_rmse_scores)\n",
    "\"\"\""
   ]
  },
  {
   "cell_type": "markdown",
   "metadata": {
    "_uuid": "a103757ac4dfdb7334664a93dc327070589d275b"
   },
   "source": [
    "Scores: [0.63807008 0.75385403 0.70411055 0.6401844  0.81735991 0.72976497\n",
    " 0.69986193 0.68349178 0.72595641 0.77671352]\n",
    "\n",
    "Mean: 0.7169367594666385\n",
    "\n",
    "Standard deviation: 0.05380741584858098"
   ]
  },
  {
   "cell_type": "markdown",
   "metadata": {
    "_uuid": "308defb041a5339263e79882c548edbfdb07ea47",
    "colab_type": "text",
    "id": "PCwxQCxo70fb"
   },
   "source": [
    "## 6. Hyperparameter Tuning"
   ]
  },
  {
   "cell_type": "markdown",
   "metadata": {
    "_uuid": "3722e65aab3a15c668b829f5789687b4df6b2767",
    "colab_type": "text",
    "id": "LGsa-rhO70fc"
   },
   "source": [
    "I am a big fan of GridSearch! You create a set of parameter combinations and you run your model with each of them and get the best parameter combination for that model. So let's do it!"
   ]
  },
  {
   "cell_type": "markdown",
   "metadata": {
    "_uuid": "49a683a4c14f4aaf136029639159a7e5a486c3b3",
    "colab_type": "text",
    "id": "iiSiwVIk70fd"
   },
   "source": [
    "### GridSearch"
   ]
  },
  {
   "cell_type": "code",
   "execution_count": null,
   "metadata": {
    "_uuid": "6cf6140167f261245bc3da0d304dad42a9cc6625",
    "colab": {
     "autoexec": {
      "startup": false,
      "wait_interval": 0
     }
    },
    "colab_type": "code",
    "collapsed": true,
    "id": "ZSDLR2TU70fd",
    "jupyter": {
     "outputs_hidden": true
    }
   },
   "outputs": [],
   "source": [
    "\"\"\"\n",
    "from sklearn.model_selection import GridSearchCV\n",
    "\"\"\""
   ]
  },
  {
   "cell_type": "markdown",
   "metadata": {
    "_uuid": "adb8f39f068bd2344d4595274634090fd84bd53e",
    "colab_type": "text",
    "id": "AKlXulXHRN_b"
   },
   "source": [
    "### Neural Network"
   ]
  },
  {
   "cell_type": "code",
   "execution_count": null,
   "metadata": {
    "_uuid": "ed1e9ddf4b5caa55b34ba201586b8c916bfb6c40",
    "colab": {
     "autoexec": {
      "startup": false,
      "wait_interval": 0
     }
    },
    "colab_type": "code",
    "collapsed": true,
    "id": "VTiCKbVb70ff",
    "jupyter": {
     "outputs_hidden": true
    }
   },
   "outputs": [],
   "source": [
    "\"\"\"\n",
    "\n",
    "I am commenting out this section since it is taking too much time, but feel free to uncomment and run it.\n",
    "\n",
    "nn_parameter_grid = [\n",
    "    {'hidden_layer_sizes': [(100, ), (200, ), (300, )],\n",
    "     'solver': ['sgd', 'adam'],\n",
    "     'learning_rate_init':[0.0001, 0.001]\n",
    "    }\n",
    "]\n",
    "\n",
    "nn_grid_clf = MLPClassifier(random_state=42, verbose=True)\n",
    "nn_grid_search = GridSearchCV(nn_grid_clf,\n",
    "                              nn_parameter_grid,\n",
    "                              cv=3,\n",
    "                              scoring='neg_mean_squared_error',\n",
    "                              verbose=3)\n",
    "nn_grid_search.fit(X_train, y_train)\n",
    "\n",
    "\"\"\""
   ]
  },
  {
   "cell_type": "code",
   "execution_count": null,
   "metadata": {
    "_uuid": "7727d1f8b9df6b4e7856b80ddc6c6dd0416f682f",
    "colab": {
     "autoexec": {
      "startup": false,
      "wait_interval": 0
     },
     "base_uri": "https://localhost:8080/",
     "height": 221
    },
    "colab_type": "code",
    "collapsed": true,
    "executionInfo": {
     "elapsed": 612,
     "status": "ok",
     "timestamp": 1532972775162,
     "user": {
      "displayName": "Recep İnanç",
      "photoUrl": "//lh4.googleusercontent.com/-gV6zBtCFpHM/AAAAAAAAAAI/AAAAAAAAEdk/vy-_CbonbE8/s50-c-k-no/photo.jpg",
      "userId": "104329631567604661052"
     },
     "user_tz": -180
    },
    "id": "UeHxQk3DTCvi",
    "jupyter": {
     "outputs_hidden": true
    },
    "outputId": "e4738cf7-b24c-4833-ac55-9869bc748f40"
   },
   "outputs": [],
   "source": [
    "\"\"\"\n",
    "\n",
    "cvres = nn_grid_search.cv_results_\n",
    "for mean_score, params in zip(cvres[\"mean_test_score\"], cvres[\"params\"]):\n",
    "    print(np.sqrt(-mean_score), params)\n",
    "\n",
    "\"\"\""
   ]
  },
  {
   "cell_type": "markdown",
   "metadata": {
    "_uuid": "95d09b03f393b2072f6ef6a2786b1f87d0f45005"
   },
   "source": [
    "1.3016777939893878 {'hidden_layer_sizes': (100,), 'learning_rate_init': 0.0001, 'solver': 'sgd'}  \n",
    "0.7858874268106391 {'hidden_layer_sizes': (100,), 'learning_rate_init': 0.0001, 'solver': 'adam'}  \n",
    "0.9632946111841942 {'hidden_layer_sizes': (100,), 'learning_rate_init': 0.001, 'solver': 'sgd'}  \n",
    "0.7544751846368469 {'hidden_layer_sizes': (100,), 'learning_rate_init': 0.001, 'solver': 'adam'}  \n",
    "1.2809553313236808 {'hidden_layer_sizes': (200,), 'learning_rate_init': 0.0001, 'solver': 'sgd'}  \n",
    "0.7334956530313408 {'hidden_layer_sizes': (200,), 'learning_rate_init': 0.0001, 'solver': 'adam'  }  \n",
    "0.8997648134800114 {'hidden_layer_sizes': (200,), 'learning_rate_init': 0.001, 'solver': 'sgd'}  \n",
    "0.712455326734661 {'hidden_layer_sizes': (200,), 'learning_rate_init': 0.001, 'solver': 'adam'}  \n",
    "1.2637811745483698 {'hidden_layer_sizes': (300,), 'learning_rate_init': 0.0001, 'solver': 'sgd'}  \n",
    "0.7171187204774808 {'hidden_layer_sizes': (300,), 'learning_rate_init': 0.0001, 'solver': 'adam'}  \n",
    "0.8738408800221489 {'hidden_layer_sizes': (300,), 'learning_rate_init': 0.001, 'solver': 'sgd'}  \n",
    "0.7087510439696313 {'hidden_layer_sizes': (300,), 'learning_rate_init': 0.001, 'solver': 'adam'}"
   ]
  },
  {
   "cell_type": "code",
   "execution_count": null,
   "metadata": {
    "_uuid": "61b6f16370eaab16d7586126634f3ed23137721c",
    "colab": {
     "autoexec": {
      "startup": false,
      "wait_interval": 0
     },
     "base_uri": "https://localhost:8080/",
     "height": 34
    },
    "colab_type": "code",
    "collapsed": true,
    "executionInfo": {
     "elapsed": 633,
     "status": "ok",
     "timestamp": 1532972753053,
     "user": {
      "displayName": "Recep İnanç",
      "photoUrl": "//lh4.googleusercontent.com/-gV6zBtCFpHM/AAAAAAAAAAI/AAAAAAAAEdk/vy-_CbonbE8/s50-c-k-no/photo.jpg",
      "userId": "104329631567604661052"
     },
     "user_tz": -180
    },
    "id": "cLOCcbG7SxTl",
    "jupyter": {
     "outputs_hidden": true
    },
    "outputId": "bcc67216-2115-47e2-c1ac-fbb73bc26cfe"
   },
   "outputs": [],
   "source": [
    "\"\"\"\n",
    "\n",
    "nn_grid_search.best_params_\n",
    "\n",
    "\"\"\""
   ]
  },
  {
   "cell_type": "markdown",
   "metadata": {
    "_uuid": "674c759018adb02d853d4abba738497b6c47f1fc"
   },
   "source": [
    "{'hidden_layer_sizes': (300,), 'learning_rate_init': 0.001, 'solver': 'adam'}"
   ]
  },
  {
   "cell_type": "markdown",
   "metadata": {
    "_uuid": "6e7ea4791406f68f8e57c561d01f43f138b5e534",
    "colab_type": "text",
    "id": "TwdykSUbyOes"
   },
   "source": [
    "### Random Forest"
   ]
  },
  {
   "cell_type": "code",
   "execution_count": null,
   "metadata": {
    "_kg_hide-output": false,
    "_uuid": "c590071e60915613f14de22b80ac0e2961c51cf1",
    "colab": {
     "autoexec": {
      "startup": false,
      "wait_interval": 0
     }
    },
    "colab_type": "code",
    "collapsed": true,
    "id": "e2SmxUuGyM7t",
    "jupyter": {
     "outputs_hidden": true
    }
   },
   "outputs": [],
   "source": [
    "\"\"\"\n",
    "\n",
    "I am commenting out this section since it is taking too much time, but feel free to uncomment and run it.\n",
    "\n",
    "rf_parameter_grid = [\n",
    "    {\n",
    "        'n_estimators': [60, 100, 200, 500],\n",
    "        'max_features': [12, 30, 100, 300, 'auto']\n",
    "    }\n",
    "]\n",
    "\n",
    "rf_grid_clf = RandomForestClassifier(random_state=42, verbose=True)\n",
    "rf_grid_search = GridSearchCV(rf_grid_clf,\n",
    "                              rf_parameter_grid,\n",
    "                              cv=None,\n",
    "                              scoring='neg_mean_squared_error',\n",
    "                              verbose=2)\n",
    "rf_grid_search.fit(X_train, y_train)\n",
    "\n",
    "\"\"\""
   ]
  },
  {
   "cell_type": "code",
   "execution_count": null,
   "metadata": {
    "_uuid": "ad140a69aea4d9195a1739ee2c259e95c434159d",
    "colab": {
     "autoexec": {
      "startup": false,
      "wait_interval": 0
     },
     "base_uri": "https://localhost:8080/",
     "height": 357
    },
    "colab_type": "code",
    "collapsed": true,
    "executionInfo": {
     "elapsed": 526,
     "status": "ok",
     "timestamp": 1532972828136,
     "user": {
      "displayName": "Recep İnanç",
      "photoUrl": "//lh4.googleusercontent.com/-gV6zBtCFpHM/AAAAAAAAAAI/AAAAAAAAEdk/vy-_CbonbE8/s50-c-k-no/photo.jpg",
      "userId": "104329631567604661052"
     },
     "user_tz": -180
    },
    "id": "Nx8jTdHcTM2a",
    "jupyter": {
     "outputs_hidden": true
    },
    "outputId": "8caf7d9a-d24e-4d85-d510-8a79f65feb69"
   },
   "outputs": [],
   "source": [
    "\"\"\"\n",
    "\n",
    "cvres = rf_grid_search.cv_results_\n",
    "for mean_score, params in zip(cvres[\"mean_test_score\"], cvres[\"params\"]):\n",
    "    print(np.sqrt(-mean_score), params)\n",
    "    \n",
    "\"\"\""
   ]
  },
  {
   "cell_type": "markdown",
   "metadata": {
    "_uuid": "9b6aab4b991c18c0298ab158101296a8916c6360"
   },
   "source": [
    "0.8918650572947011 {'max_features': 12, 'n_estimators': 60}  \n",
    "0.8688312407295935 {'max_features': 12, 'n_estimators': 100}  \n",
    "0.8511274812964209 {'max_features': 12, 'n_estimators': 200}  \n",
    "0.8394221998670452 {'max_features': 12, 'n_estimators': 500}  \n",
    "0.8549575316659775 {'max_features': 30, 'n_estimators': 60}  \n",
    "0.8316331863350311 {'max_features': 30, 'n_estimators': 100}  \n",
    "0.8305668364684866 {'max_features': 30, 'n_estimators': 200}  \n",
    "0.8183413344580241 {'max_features': 30, 'n_estimators': 500}  \n",
    "0.8433210991019234 {'max_features': 100, 'n_estimators': 60}  \n",
    "0.8353309390761112 {'max_features': 100, 'n_estimators': 100}  \n",
    "0.8305827622023737 {'max_features': 100, 'n_estimators': 200}  \n",
    "0.8200529083460241 {'max_features': 100, 'n_estimators': 500}  \n",
    "0.8734775114237132 {'max_features': 300, 'n_estimators': 60}  \n",
    "0.8598326402923824 {'max_features': 300, 'n_estimators': 100}  \n",
    "0.8533469740973235 {'max_features': 300, 'n_estimators': 200}  \n",
    "0.8530524091158835 {'max_features': 300, 'n_estimators': 500}  \n",
    "0.85441585602472 {'max_features': 'auto', 'n_estimators': 60}  \n",
    "0.838002790716521 {'max_features': 'auto', 'n_estimators': 100}  \n",
    "0.8238668665243273 {'max_features': 'auto', 'n_estimators': 200}  \n",
    "0.8244767460407266 {'max_features': 'auto', 'n_estimators': 500}  "
   ]
  },
  {
   "cell_type": "code",
   "execution_count": null,
   "metadata": {
    "_uuid": "3463ecae11294b76a9f62ce31171852c14dd62bb",
    "colab": {
     "autoexec": {
      "startup": false,
      "wait_interval": 0
     },
     "base_uri": "https://localhost:8080/",
     "height": 34
    },
    "colab_type": "code",
    "collapsed": true,
    "executionInfo": {
     "elapsed": 551,
     "status": "ok",
     "timestamp": 1532972837243,
     "user": {
      "displayName": "Recep İnanç",
      "photoUrl": "//lh4.googleusercontent.com/-gV6zBtCFpHM/AAAAAAAAAAI/AAAAAAAAEdk/vy-_CbonbE8/s50-c-k-no/photo.jpg",
      "userId": "104329631567604661052"
     },
     "user_tz": -180
    },
    "id": "GI3ukBO6TQNA",
    "jupyter": {
     "outputs_hidden": true
    },
    "outputId": "1d8f46b6-5370-432b-9b76-91097a43a3d1"
   },
   "outputs": [],
   "source": [
    "\"\"\"\n",
    "rf_grid_search.best_params_\n",
    "\"\"\""
   ]
  },
  {
   "cell_type": "markdown",
   "metadata": {
    "_uuid": "8b4109e0899292c60bdcf98633e0d63711d54943",
    "collapsed": true,
    "jupyter": {
     "outputs_hidden": true
    }
   },
   "source": [
    "{'max_features': 30, 'n_estimators': 500}"
   ]
  },
  {
   "cell_type": "markdown",
   "metadata": {
    "_uuid": "c19816fb9bc81524e59ec33a340ca95ace0c7491",
    "colab_type": "text",
    "id": "AG_6Efa1WBGS"
   },
   "source": [
    "# 7. Predict and Submit"
   ]
  },
  {
   "cell_type": "markdown",
   "metadata": {
    "_uuid": "898d4052b02579517754b1ffd5742683e14668ae",
    "colab_type": "text",
    "id": "zRb8cCBV80Fd"
   },
   "source": [
    "## 7.1 Confusion Matrix"
   ]
  },
  {
   "cell_type": "code",
   "execution_count": null,
   "metadata": {
    "_uuid": "4d2f307b51aa340a4ba31359476ab5fabfc1be3b",
    "colab": {
     "autoexec": {
      "startup": false,
      "wait_interval": 0
     },
     "base_uri": "https://localhost:8080/",
     "height": 612
    },
    "colab_type": "code",
    "collapsed": true,
    "executionInfo": {
     "elapsed": 99246,
     "status": "ok",
     "timestamp": 1533020213395,
     "user": {
      "displayName": "Recep İnanç",
      "photoUrl": "//lh4.googleusercontent.com/-gV6zBtCFpHM/AAAAAAAAAAI/AAAAAAAAEdk/vy-_CbonbE8/s50-c-k-no/photo.jpg",
      "userId": "104329631567604661052"
     },
     "user_tz": -180
    },
    "id": "utg_50Bi-E3-",
    "jupyter": {
     "outputs_hidden": true
    },
    "outputId": "e24b7707-ae9d-43f2-ed70-0cc9ee4fad4a"
   },
   "outputs": [],
   "source": [
    "nn_tuned_clf = MLPClassifier(hidden_layer_sizes=(300,),\n",
    "                            learning_rate_init=0.001,\n",
    "                            solver='adam',\n",
    "                            random_state=42,\n",
    "                            verbose=True)\n",
    "nn_tuned_clf.fit(X_train, y_train)"
   ]
  },
  {
   "cell_type": "code",
   "execution_count": null,
   "metadata": {
    "_uuid": "0982ab7a387591d0446aacc9de3aa0a24137ba62",
    "colab": {
     "autoexec": {
      "startup": false,
      "wait_interval": 0
     }
    },
    "colab_type": "code",
    "collapsed": true,
    "id": "ZsPGMea1-ipY",
    "jupyter": {
     "outputs_hidden": true
    }
   },
   "outputs": [],
   "source": [
    "nn_tuned_pred = nn_tuned_clf.predict(X_validation_scaled)"
   ]
  },
  {
   "cell_type": "markdown",
   "metadata": {
    "_uuid": "aef5127ccae95f759074a238163baea71c38a99d",
    "colab_type": "text",
    "id": "L38q0EG4WXMD"
   },
   "source": [
    "## 7.2 Precision, Recall and F1 Scores"
   ]
  },
  {
   "cell_type": "code",
   "execution_count": null,
   "metadata": {
    "_uuid": "ec93c7478c9bf639d550e82f336e052838a9fd3b",
    "colab": {
     "autoexec": {
      "startup": false,
      "wait_interval": 0
     }
    },
    "colab_type": "code",
    "collapsed": true,
    "id": "rhpadj_hTSbT",
    "jupyter": {
     "outputs_hidden": true
    }
   },
   "outputs": [],
   "source": [
    "from sklearn.metrics import confusion_matrix, precision_score, recall_score, f1_score, precision_recall_fscore_support"
   ]
  },
  {
   "cell_type": "code",
   "execution_count": null,
   "metadata": {
    "_uuid": "16079413e38c40a3fef4320aef53dc98a3bab012",
    "colab": {
     "autoexec": {
      "startup": false,
      "wait_interval": 0
     },
     "base_uri": "https://localhost:8080/",
     "height": 204
    },
    "colab_type": "code",
    "collapsed": true,
    "executionInfo": {
     "elapsed": 544,
     "status": "ok",
     "timestamp": 1533023484860,
     "user": {
      "displayName": "Recep İnanç",
      "photoUrl": "//lh4.googleusercontent.com/-gV6zBtCFpHM/AAAAAAAAAAI/AAAAAAAAEdk/vy-_CbonbE8/s50-c-k-no/photo.jpg",
      "userId": "104329631567604661052"
     },
     "user_tz": -180
    },
    "id": "OijPXxWJSEg1",
    "jupyter": {
     "outputs_hidden": true
    },
    "outputId": "2b98ef86-6b45-4f7f-d723-bb0039d65c73"
   },
   "outputs": [],
   "source": [
    "nn_precisions, nn_recalls, nn_f_beta_scores, nn_support = precision_recall_fscore_support(y_validation, nn_tuned_pred)\n",
    "print(\"Precision of each class:\", nn_precisions, \"\\n\")\n",
    "print(\"Recall of each class:\", nn_recalls, \"\\n\")\n",
    "print(\"F Scores of each class:\", nn_f_beta_scores, \"\\n\")\n",
    "print(\"Support of each class:\", nn_support, \"\\n\")"
   ]
  },
  {
   "cell_type": "markdown",
   "metadata": {
    "_uuid": "4d04c24b7bada4d9b4fca91aa6d4c52106d97e3b",
    "colab_type": "text",
    "id": "Nj8DbfX0Si0p"
   },
   "source": [
    "See [Sklearn Documentation for precision_recall_fscore_support()](http://scikit-learn.org/stable/modules/generated/sklearn.metrics.precision_recall_fscore_support.html#sklearn.metrics.precision_recall_fscore_support)\n",
    "\n",
    "The **precision** is the ratio `tp / (tp + fp)` where tp is the number of true positives and fp the number of false positives. _The precision is intuitively the ability of the classifier **not to label as positive a sample that is negative**._\n",
    "\n",
    "The **recall** is the ratio `tp / (tp + fn)` where tp is the number of true positives and fn the number of false negatives. _The recall is intuitively the ability of the classifier **to find all the positive samples**._\n",
    "\n",
    "The **F-beta score** can be interpreted as a weighted harmonic mean of the precision and recall, where an F-beta score reaches its `best value at 1 and worst score at 0`.\n",
    "\n",
    "The F-beta score weights recall more than precision by a factor of beta. `beta == 1.0` means `recall and precision are equally important.`"
   ]
  },
  {
   "cell_type": "code",
   "execution_count": null,
   "metadata": {
    "_uuid": "90361d628fa69375285013ca5a8854387bfd165a",
    "colab": {
     "autoexec": {
      "startup": false,
      "wait_interval": 0
     },
     "base_uri": "https://localhost:8080/",
     "height": 34
    },
    "colab_type": "code",
    "collapsed": true,
    "executionInfo": {
     "elapsed": 648,
     "status": "ok",
     "timestamp": 1533023712425,
     "user": {
      "displayName": "Recep İnanç",
      "photoUrl": "//lh4.googleusercontent.com/-gV6zBtCFpHM/AAAAAAAAAAI/AAAAAAAAEdk/vy-_CbonbE8/s50-c-k-no/photo.jpg",
      "userId": "104329631567604661052"
     },
     "user_tz": -180
    },
    "id": "49MA1Q1vR1Ld",
    "jupyter": {
     "outputs_hidden": true
    },
    "outputId": "b3715fa0-fcac-4903-c6fe-e47675fde08a"
   },
   "outputs": [],
   "source": [
    "f1_score(y_validation, nn_tuned_pred, average=\"micro\") # This is the average"
   ]
  },
  {
   "cell_type": "code",
   "execution_count": null,
   "metadata": {
    "_uuid": "967ef6ead6f010bfc6f8339f8f55f99dd13ae454",
    "colab": {
     "autoexec": {
      "startup": false,
      "wait_interval": 0
     }
    },
    "colab_type": "code",
    "collapsed": true,
    "id": "FkkL8qok842D",
    "jupyter": {
     "outputs_hidden": true
    }
   },
   "outputs": [],
   "source": [
    "nn_conf_matrix = confusion_matrix(y_validation, nn_tuned_pred)"
   ]
  },
  {
   "cell_type": "code",
   "execution_count": null,
   "metadata": {
    "_uuid": "6544b0c122c0a7f961e198310899a1757faaf429",
    "colab": {
     "autoexec": {
      "startup": false,
      "wait_interval": 0
     },
     "base_uri": "https://localhost:8080/",
     "height": 355
    },
    "colab_type": "code",
    "collapsed": true,
    "executionInfo": {
     "elapsed": 551,
     "status": "ok",
     "timestamp": 1533020587969,
     "user": {
      "displayName": "Recep İnanç",
      "photoUrl": "//lh4.googleusercontent.com/-gV6zBtCFpHM/AAAAAAAAAAI/AAAAAAAAEdk/vy-_CbonbE8/s50-c-k-no/photo.jpg",
      "userId": "104329631567604661052"
     },
     "user_tz": -180
    },
    "id": "Xlt5bjs_I0He",
    "jupyter": {
     "outputs_hidden": true
    },
    "outputId": "c1ca2e5d-13e4-4cf5-e0bb-a16a32f86076"
   },
   "outputs": [],
   "source": [
    "plt.matshow(nn_conf_matrix, cmap=plt.cm.gray)\n",
    "plt.show()"
   ]
  },
  {
   "cell_type": "markdown",
   "metadata": {
    "_uuid": "bc7f83779438f950ad1a33bd5f258ab5a2b1e6ba",
    "colab_type": "text",
    "id": "AoMzbEApJueG"
   },
   "source": [
    "Currently we can not talk about this graph so much, since these are the actual values and depending on the frequency of each digit this result may mislead us. It is better to look at the **error rates** and **not the actual number** of errors (mis-classified).\n",
    "\n",
    "Because, if we had 1000 5s and 9999 1s, having 999 false classifications (errors) in 5s, and 1000 in 1s would be seen as \"We had less error in 5s\". But if we have used **rates** it would be clearer."
   ]
  },
  {
   "cell_type": "code",
   "execution_count": null,
   "metadata": {
    "_uuid": "1beb50e954cabfcfaefc805b63e8e10be6993000",
    "colab": {
     "autoexec": {
      "startup": false,
      "wait_interval": 0
     }
    },
    "colab_type": "code",
    "collapsed": true,
    "id": "89IbI6tCJLvk",
    "jupyter": {
     "outputs_hidden": true
    }
   },
   "outputs": [],
   "source": [
    "nn_row_sums = nn_conf_matrix.sum(axis=1, keepdims=True)\n",
    "nn_norm_conf_mx = nn_conf_matrix / nn_row_sums"
   ]
  },
  {
   "cell_type": "code",
   "execution_count": null,
   "metadata": {
    "_uuid": "0af387c056dc335a4e24f938983f983c0b2db264",
    "colab": {
     "autoexec": {
      "startup": false,
      "wait_interval": 0
     },
     "base_uri": "https://localhost:8080/",
     "height": 355
    },
    "colab_type": "code",
    "collapsed": true,
    "executionInfo": {
     "elapsed": 494,
     "status": "ok",
     "timestamp": 1533020993211,
     "user": {
      "displayName": "Recep İnanç",
      "photoUrl": "//lh4.googleusercontent.com/-gV6zBtCFpHM/AAAAAAAAAAI/AAAAAAAAEdk/vy-_CbonbE8/s50-c-k-no/photo.jpg",
      "userId": "104329631567604661052"
     },
     "user_tz": -180
    },
    "id": "4PnFBK4KKmX9",
    "jupyter": {
     "outputs_hidden": true
    },
    "outputId": "6ab1b776-ed06-4212-9fac-282052fcb820"
   },
   "outputs": [],
   "source": [
    "np.fill_diagonal(nn_norm_conf_mx, 0) # to keep only the errors we fill diagonal with 0s, since diagonal shows the ones that are correctly classified.\n",
    "plt.matshow(nn_norm_conf_mx, cmap=plt.cm.gray)\n",
    "plt.show()"
   ]
  },
  {
   "cell_type": "markdown",
   "metadata": {
    "_uuid": "d64716b945f294cf517b6ae594811de4b96ce8ba",
    "colab_type": "text",
    "id": "Vlhg-IqjQjMw"
   },
   "source": [
    "The brighter squares represents higher values, meaning higher error rates.  \n",
    "\n",
    "We can see that most of the **3s are mis-classified as 5**, some of the **4s are mis-classified as 9s**, and some of **7s are mis-classified as 2**. To solve these issues we may add some new features:\n",
    "\n",
    "For example the main difference betweeen 5 and 3 is the postiion of the line in between, in 3s it closer to the middle, in 5s it is a bit higher.  \n",
    "\n",
    "For 4 and 9 we can check to see if there are complete circles, which indicates that is a 9.  \n",
    "\n",
    "For 7 and 2, the additional line in the bottom is what makes the most of the difference.\n",
    "\n",
    "To get a better understanding of the error we may examine the mis-classified examples to what might be the reason for the error.\n",
    "\n",
    "**PS: Increasing the total number of training samples for each digit would result in a increase in performance. We can also preprocess the images to make sure that they are not rotated and they fit well in the matrix.**"
   ]
  },
  {
   "cell_type": "markdown",
   "metadata": {
    "_uuid": "ff23583d9932a58d6066fac414fdc8353ca4d559",
    "colab_type": "text",
    "id": "szhrNvWIWaI8"
   },
   "source": [
    "## 7.3 Predict and Submit Results"
   ]
  },
  {
   "cell_type": "markdown",
   "metadata": {
    "_uuid": "1c4dc63e0c9faba62f1be9a7de81f7eaaa8b5fd7",
    "colab_type": "text",
    "id": "EPJMmKugWkHl"
   },
   "source": [
    "We are going to build the final classifier again, using the whole training set (including the validation set this time). Predict result for test set and submit our results."
   ]
  },
  {
   "cell_type": "markdown",
   "metadata": {
    "_uuid": "239dedcabfa0a0ee328148ff656d67a8ea6af745",
    "colab_type": "text",
    "id": "pa1eNylnXWW3"
   },
   "source": [
    "### Get the dataset again and normalize it"
   ]
  },
  {
   "cell_type": "code",
   "execution_count": null,
   "metadata": {
    "_uuid": "7ae380f0aa99f061b61aefd27b801352634e1b44",
    "colab": {
     "autoexec": {
      "startup": false,
      "wait_interval": 0
     }
    },
    "colab_type": "code",
    "collapsed": true,
    "id": "emfD_Et_K_RI",
    "jupyter": {
     "outputs_hidden": true
    }
   },
   "outputs": [],
   "source": [
    "\"\"\"\n",
    "\n",
    "final_train = train.copy()\n",
    "\n",
    "final_X_train = final_train.drop(['label'], axis=1).copy()\n",
    "final_y_train = final_train['label'].copy()\n",
    "\n",
    "del final_train\n",
    "\n",
    "final_X_train_scaled = final_X_train.copy()\n",
    "final_X_train_scaled = final_X_train_scaled / 255.0\n",
    "\"\"\"\n"
   ]
  },
  {
   "cell_type": "markdown",
   "metadata": {
    "_uuid": "bfb65e726b38a0d3762194137d71025a47f3b900",
    "colab_type": "text",
    "id": "f7QYFX0mXbsC"
   },
   "source": [
    "### Train The Best Model (MLP in this case)"
   ]
  },
  {
   "cell_type": "code",
   "execution_count": null,
   "metadata": {
    "_uuid": "baa2f59cf716d6cce09ca29b017407e2aa93f71b",
    "colab": {
     "autoexec": {
      "startup": false,
      "wait_interval": 0
     }
    },
    "colab_type": "code",
    "collapsed": true,
    "id": "gGUVyd6PXVI9",
    "jupyter": {
     "outputs_hidden": true
    }
   },
   "outputs": [],
   "source": [
    "\"\"\"\n",
    "from sklearn.neural_network import MLPClassifier\n",
    "\"\"\""
   ]
  },
  {
   "cell_type": "code",
   "execution_count": null,
   "metadata": {
    "_uuid": "5bcda4013725dcaa692ade882b005e11f7465c9c",
    "colab": {
     "autoexec": {
      "startup": false,
      "wait_interval": 0
     },
     "base_uri": "https://localhost:8080/",
     "height": 663
    },
    "colab_type": "code",
    "collapsed": true,
    "executionInfo": {
     "elapsed": 106820,
     "status": "ok",
     "timestamp": 1533024478292,
     "user": {
      "displayName": "Recep İnanç",
      "photoUrl": "//lh4.googleusercontent.com/-gV6zBtCFpHM/AAAAAAAAAAI/AAAAAAAAEdk/vy-_CbonbE8/s50-c-k-no/photo.jpg",
      "userId": "104329631567604661052"
     },
     "user_tz": -180
    },
    "id": "258MwCj5XlXo",
    "jupyter": {
     "outputs_hidden": true
    },
    "outputId": "ea8176b1-30a4-4b98-ceb2-aeb27a72bbb1"
   },
   "outputs": [],
   "source": [
    "\"\"\"\n",
    "\n",
    "final_nn_clf = MLPClassifier(hidden_layer_sizes=(300,),\n",
    "                            learning_rate_init=0.001,\n",
    "                            solver='adam',\n",
    "                            random_state=42)\n",
    "final_nn_clf.fit(final_X_train_scaled, final_y_train)\n",
    "\"\"\"\n"
   ]
  },
  {
   "cell_type": "markdown",
   "metadata": {
    "_uuid": "ebf6b9613aa9cf738eb69804335d4e0914631f32",
    "colab_type": "text",
    "id": "jggZxhkuX5Jz"
   },
   "source": [
    "### Predict on Test Set"
   ]
  },
  {
   "cell_type": "code",
   "execution_count": null,
   "metadata": {
    "_uuid": "c0edf8f1fa995da8a81d611ed9d0eb2eeecce83a",
    "collapsed": true,
    "jupyter": {
     "outputs_hidden": true
    }
   },
   "outputs": [],
   "source": [
    "\"\"\"\n",
    "final_prediction = final_nn_clf.predict(test)\n",
    "\"\"\""
   ]
  },
  {
   "cell_type": "markdown",
   "metadata": {
    "_uuid": "ded4cf934547549094cebd636d6bb540fb5ca7b8",
    "colab_type": "text",
    "id": "I2xmwIGzYCd_"
   },
   "source": [
    "### Submit Results"
   ]
  },
  {
   "cell_type": "code",
   "execution_count": null,
   "metadata": {
    "_uuid": "11de8a8417bd15d5f38c15f838e1a543024715f3",
    "colab": {
     "autoexec": {
      "startup": false,
      "wait_interval": 0
     }
    },
    "colab_type": "code",
    "collapsed": true,
    "id": "sdSsOe-gY2q9",
    "jupyter": {
     "outputs_hidden": true
    }
   },
   "outputs": [],
   "source": [
    "\"\"\"\n",
    "\n",
    "submission = pd.DataFrame({\"ImageId\": list(range(1,len(final_prediction)+1)),\n",
    "                          \"Label\": final_prediction})\n",
    "\"\"\""
   ]
  },
  {
   "cell_type": "code",
   "execution_count": null,
   "metadata": {
    "_uuid": "a9de35872e156b1c3711f9d1874ec8fde24f6712",
    "colab": {
     "autoexec": {
      "startup": false,
      "wait_interval": 0
     }
    },
    "colab_type": "code",
    "collapsed": true,
    "id": "JrqMOWaqZFwH",
    "jupyter": {
     "outputs_hidden": true
    }
   },
   "outputs": [],
   "source": [
    "\"\"\"\n",
    "submission.to_csv(\"cnn_mnist_submission.csv\", index=False)\n",
    "\"\"\""
   ]
  },
  {
   "cell_type": "code",
   "execution_count": null,
   "metadata": {
    "_uuid": "7515a73b152d5dfcf088a30a6f2b062fc64c1327",
    "collapsed": true,
    "jupyter": {
     "outputs_hidden": true
    }
   },
   "outputs": [],
   "source": []
  }
 ],
 "metadata": {
  "accelerator": "GPU",
  "colab": {
   "collapsed_sections": [
    "n0o-3gc270ed"
   ],
   "default_view": {},
   "name": "mnist_classification_simple.ipynb",
   "provenance": [],
   "version": "0.3.2",
   "views": {}
  },
  "kernelspec": {
   "display_name": "Python 3 (ipykernel)",
   "language": "python",
   "name": "python3"
  },
  "language_info": {
   "codemirror_mode": {
    "name": "ipython",
    "version": 3
   },
   "file_extension": ".py",
   "mimetype": "text/x-python",
   "name": "python",
   "nbconvert_exporter": "python",
   "pygments_lexer": "ipython3",
   "version": "3.10.7"
  }
 },
 "nbformat": 4,
 "nbformat_minor": 4
}
